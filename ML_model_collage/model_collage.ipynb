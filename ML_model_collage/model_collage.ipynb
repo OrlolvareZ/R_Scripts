{
 "cells": [
  {
   "cell_type": "code",
   "execution_count": 12,
   "metadata": {
    "vscode": {
     "languageId": "r"
    }
   },
   "outputs": [],
   "source": [
    "# Se cargan las librerías\n",
    "library(\"dplyr\")\n",
    "library(\"readr\")\n",
    "library(\"ggplot2\")\n",
    "# Paquete que contiene la función sample.split\n",
    "library(\"caTools\")\n",
    "# Paquete que contiene la función para el modelo de análisis discriminante\n",
    "library(\"MASS\")\n",
    "# Paquete que contiene la función para el modelo de k-vecinos\n",
    "library(class)\n",
    "# Paquete que contiene la función para las gráficas ROC\n",
    "library(\"ROCR\")\n"
   ]
  },
  {
   "cell_type": "code",
   "execution_count": 13,
   "metadata": {
    "vscode": {
     "languageId": "r"
    }
   },
   "outputs": [],
   "source": [
    "# Lee la información de los archivos\n",
    "usuarios <- read.table(\"./movies_data/u.user\", header = TRUE, sep = \"|\")\n",
    "peliculas <- read.table(\"./movies_data/u.item\", header = TRUE, sep = \"|\")\n",
    "calificaciones <- read.table(\"./movies_data/udata.data\", header = TRUE, sep = \"\\t\")\n"
   ]
  },
  {
   "cell_type": "code",
   "execution_count": 14,
   "metadata": {
    "vscode": {
     "languageId": "r"
    }
   },
   "outputs": [],
   "source": [
    "# Se crea una tabla con la información de los usuarios y sus calificaciones\n",
    "info <- left_join(usuarios, calificaciones, by = \"userid\", multiple = \"all\")\n",
    "info <- left_join(info, peliculas, by = \"itemid\")\n"
   ]
  },
  {
   "cell_type": "code",
   "execution_count": 15,
   "metadata": {
    "vscode": {
     "languageId": "r"
    }
   },
   "outputs": [],
   "source": [
    "# Se crea una función para calcular el porcentaje de aciertos\n",
    "precision <- function(x) {\n",
    "    sum(diag(x) / (sum(rowSums(x)))) * 100\n",
    "}\n"
   ]
  },
  {
   "cell_type": "code",
   "execution_count": 16,
   "metadata": {
    "vscode": {
     "languageId": "r"
    }
   },
   "outputs": [
    {
     "data": {
      "text/html": [
       "<table class=\"dataframe\">\n",
       "<caption>A data.frame: 6 × 31</caption>\n",
       "<thead>\n",
       "\t<tr><th></th><th scope=col>userid</th><th scope=col>age</th><th scope=col>gender</th><th scope=col>occupation</th><th scope=col>zcode</th><th scope=col>itemid</th><th scope=col>rate</th><th scope=col>timestamp</th><th scope=col>title</th><th scope=col>rdate</th><th scope=col>⋯</th><th scope=col>Fantasy</th><th scope=col>FilmNoir</th><th scope=col>Horror</th><th scope=col>Musical</th><th scope=col>Mystery</th><th scope=col>Romance</th><th scope=col>SciFi</th><th scope=col>Thriller</th><th scope=col>War</th><th scope=col>Western</th></tr>\n",
       "\t<tr><th></th><th scope=col>&lt;int&gt;</th><th scope=col>&lt;int&gt;</th><th scope=col>&lt;chr&gt;</th><th scope=col>&lt;chr&gt;</th><th scope=col>&lt;chr&gt;</th><th scope=col>&lt;int&gt;</th><th scope=col>&lt;int&gt;</th><th scope=col>&lt;dbl&gt;</th><th scope=col>&lt;chr&gt;</th><th scope=col>&lt;chr&gt;</th><th scope=col>⋯</th><th scope=col>&lt;int&gt;</th><th scope=col>&lt;int&gt;</th><th scope=col>&lt;int&gt;</th><th scope=col>&lt;int&gt;</th><th scope=col>&lt;int&gt;</th><th scope=col>&lt;int&gt;</th><th scope=col>&lt;int&gt;</th><th scope=col>&lt;int&gt;</th><th scope=col>&lt;int&gt;</th><th scope=col>&lt;int&gt;</th></tr>\n",
       "</thead>\n",
       "<tbody>\n",
       "\t<tr><th scope=row>1</th><td>1</td><td>24</td><td>M</td><td>technician</td><td>85711</td><td> 61</td><td>4</td><td>878542420</td><td>Three Colors: White (1994)</td><td>01-Jan-1994</td><td>⋯</td><td>0</td><td>0</td><td>0</td><td>0</td><td>0</td><td>0</td><td>0</td><td>0</td><td>0</td><td>0</td></tr>\n",
       "\t<tr><th scope=row>2</th><td>1</td><td>24</td><td>M</td><td>technician</td><td>85711</td><td>189</td><td>3</td><td>888732928</td><td>Grand Day Out, A (1992)   </td><td>01-Jan-1992</td><td>⋯</td><td>0</td><td>0</td><td>0</td><td>0</td><td>0</td><td>0</td><td>0</td><td>0</td><td>0</td><td>0</td></tr>\n",
       "\t<tr><th scope=row>3</th><td>1</td><td>24</td><td>M</td><td>technician</td><td>85711</td><td> 33</td><td>4</td><td>878542699</td><td>Desperado (1995)          </td><td>01-Jan-1995</td><td>⋯</td><td>0</td><td>0</td><td>0</td><td>0</td><td>0</td><td>1</td><td>0</td><td>1</td><td>0</td><td>0</td></tr>\n",
       "\t<tr><th scope=row>4</th><td>1</td><td>24</td><td>M</td><td>technician</td><td>85711</td><td>160</td><td>4</td><td>875072547</td><td>Glengarry Glen Ross (1992)</td><td>01-Jan-1992</td><td>⋯</td><td>0</td><td>0</td><td>0</td><td>0</td><td>0</td><td>0</td><td>0</td><td>0</td><td>0</td><td>0</td></tr>\n",
       "\t<tr><th scope=row>5</th><td>1</td><td>24</td><td>M</td><td>technician</td><td>85711</td><td> 20</td><td>4</td><td>887431883</td><td>Angels and Insects (1995) </td><td>01-Jan-1995</td><td>⋯</td><td>0</td><td>0</td><td>0</td><td>0</td><td>0</td><td>1</td><td>0</td><td>0</td><td>0</td><td>0</td></tr>\n",
       "\t<tr><th scope=row>6</th><td>1</td><td>24</td><td>M</td><td>technician</td><td>85711</td><td>202</td><td>5</td><td>875072442</td><td>Groundhog Day (1993)      </td><td>01-Jan-1993</td><td>⋯</td><td>0</td><td>0</td><td>0</td><td>0</td><td>0</td><td>1</td><td>0</td><td>0</td><td>0</td><td>0</td></tr>\n",
       "</tbody>\n",
       "</table>\n"
      ],
      "text/latex": [
       "A data.frame: 6 × 31\n",
       "\\begin{tabular}{r|lllllllllllllllllllll}\n",
       "  & userid & age & gender & occupation & zcode & itemid & rate & timestamp & title & rdate & ⋯ & Fantasy & FilmNoir & Horror & Musical & Mystery & Romance & SciFi & Thriller & War & Western\\\\\n",
       "  & <int> & <int> & <chr> & <chr> & <chr> & <int> & <int> & <dbl> & <chr> & <chr> & ⋯ & <int> & <int> & <int> & <int> & <int> & <int> & <int> & <int> & <int> & <int>\\\\\n",
       "\\hline\n",
       "\t1 & 1 & 24 & M & technician & 85711 &  61 & 4 & 878542420 & Three Colors: White (1994) & 01-Jan-1994 & ⋯ & 0 & 0 & 0 & 0 & 0 & 0 & 0 & 0 & 0 & 0\\\\\n",
       "\t2 & 1 & 24 & M & technician & 85711 & 189 & 3 & 888732928 & Grand Day Out, A (1992)    & 01-Jan-1992 & ⋯ & 0 & 0 & 0 & 0 & 0 & 0 & 0 & 0 & 0 & 0\\\\\n",
       "\t3 & 1 & 24 & M & technician & 85711 &  33 & 4 & 878542699 & Desperado (1995)           & 01-Jan-1995 & ⋯ & 0 & 0 & 0 & 0 & 0 & 1 & 0 & 1 & 0 & 0\\\\\n",
       "\t4 & 1 & 24 & M & technician & 85711 & 160 & 4 & 875072547 & Glengarry Glen Ross (1992) & 01-Jan-1992 & ⋯ & 0 & 0 & 0 & 0 & 0 & 0 & 0 & 0 & 0 & 0\\\\\n",
       "\t5 & 1 & 24 & M & technician & 85711 &  20 & 4 & 887431883 & Angels and Insects (1995)  & 01-Jan-1995 & ⋯ & 0 & 0 & 0 & 0 & 0 & 1 & 0 & 0 & 0 & 0\\\\\n",
       "\t6 & 1 & 24 & M & technician & 85711 & 202 & 5 & 875072442 & Groundhog Day (1993)       & 01-Jan-1993 & ⋯ & 0 & 0 & 0 & 0 & 0 & 1 & 0 & 0 & 0 & 0\\\\\n",
       "\\end{tabular}\n"
      ],
      "text/markdown": [
       "\n",
       "A data.frame: 6 × 31\n",
       "\n",
       "| <!--/--> | userid &lt;int&gt; | age &lt;int&gt; | gender &lt;chr&gt; | occupation &lt;chr&gt; | zcode &lt;chr&gt; | itemid &lt;int&gt; | rate &lt;int&gt; | timestamp &lt;dbl&gt; | title &lt;chr&gt; | rdate &lt;chr&gt; | ⋯ ⋯ | Fantasy &lt;int&gt; | FilmNoir &lt;int&gt; | Horror &lt;int&gt; | Musical &lt;int&gt; | Mystery &lt;int&gt; | Romance &lt;int&gt; | SciFi &lt;int&gt; | Thriller &lt;int&gt; | War &lt;int&gt; | Western &lt;int&gt; |\n",
       "|---|---|---|---|---|---|---|---|---|---|---|---|---|---|---|---|---|---|---|---|---|---|\n",
       "| 1 | 1 | 24 | M | technician | 85711 |  61 | 4 | 878542420 | Three Colors: White (1994) | 01-Jan-1994 | ⋯ | 0 | 0 | 0 | 0 | 0 | 0 | 0 | 0 | 0 | 0 |\n",
       "| 2 | 1 | 24 | M | technician | 85711 | 189 | 3 | 888732928 | Grand Day Out, A (1992)    | 01-Jan-1992 | ⋯ | 0 | 0 | 0 | 0 | 0 | 0 | 0 | 0 | 0 | 0 |\n",
       "| 3 | 1 | 24 | M | technician | 85711 |  33 | 4 | 878542699 | Desperado (1995)           | 01-Jan-1995 | ⋯ | 0 | 0 | 0 | 0 | 0 | 1 | 0 | 1 | 0 | 0 |\n",
       "| 4 | 1 | 24 | M | technician | 85711 | 160 | 4 | 875072547 | Glengarry Glen Ross (1992) | 01-Jan-1992 | ⋯ | 0 | 0 | 0 | 0 | 0 | 0 | 0 | 0 | 0 | 0 |\n",
       "| 5 | 1 | 24 | M | technician | 85711 |  20 | 4 | 887431883 | Angels and Insects (1995)  | 01-Jan-1995 | ⋯ | 0 | 0 | 0 | 0 | 0 | 1 | 0 | 0 | 0 | 0 |\n",
       "| 6 | 1 | 24 | M | technician | 85711 | 202 | 5 | 875072442 | Groundhog Day (1993)       | 01-Jan-1993 | ⋯ | 0 | 0 | 0 | 0 | 0 | 1 | 0 | 0 | 0 | 0 |\n",
       "\n"
      ],
      "text/plain": [
       "  userid age gender occupation zcode itemid rate timestamp\n",
       "1 1      24  M      technician 85711  61    4    878542420\n",
       "2 1      24  M      technician 85711 189    3    888732928\n",
       "3 1      24  M      technician 85711  33    4    878542699\n",
       "4 1      24  M      technician 85711 160    4    875072547\n",
       "5 1      24  M      technician 85711  20    4    887431883\n",
       "6 1      24  M      technician 85711 202    5    875072442\n",
       "  title                      rdate       ⋯ Fantasy FilmNoir Horror Musical\n",
       "1 Three Colors: White (1994) 01-Jan-1994 ⋯ 0       0        0      0      \n",
       "2 Grand Day Out, A (1992)    01-Jan-1992 ⋯ 0       0        0      0      \n",
       "3 Desperado (1995)           01-Jan-1995 ⋯ 0       0        0      0      \n",
       "4 Glengarry Glen Ross (1992) 01-Jan-1992 ⋯ 0       0        0      0      \n",
       "5 Angels and Insects (1995)  01-Jan-1995 ⋯ 0       0        0      0      \n",
       "6 Groundhog Day (1993)       01-Jan-1993 ⋯ 0       0        0      0      \n",
       "  Mystery Romance SciFi Thriller War Western\n",
       "1 0       0       0     0        0   0      \n",
       "2 0       0       0     0        0   0      \n",
       "3 0       1       0     1        0   0      \n",
       "4 0       0       0     0        0   0      \n",
       "5 0       1       0     0        0   0      \n",
       "6 0       1       0     0        0   0      "
      ]
     },
     "metadata": {},
     "output_type": "display_data"
    }
   ],
   "source": [
    "head(info)\n"
   ]
  },
  {
   "cell_type": "code",
   "execution_count": 17,
   "metadata": {
    "vscode": {
     "languageId": "r"
    }
   },
   "outputs": [
    {
     "data": {
      "text/html": [
       "<style>\n",
       ".list-inline {list-style: none; margin:0; padding: 0}\n",
       ".list-inline>li {display: inline-block}\n",
       ".list-inline>li:not(:last-child)::after {content: \"\\00b7\"; padding: 0 .5ex}\n",
       "</style>\n",
       "<ol class=list-inline><li>'userid'</li><li>'age'</li><li>'gender'</li><li>'occupation'</li><li>'zcode'</li><li>'itemid'</li><li>'rate'</li><li>'timestamp'</li><li>'title'</li><li>'rdate'</li><li>'vrdate'</li><li>'IMDbURL'</li><li>'unknown'</li><li>'Action'</li><li>'Adventure'</li><li>'Animation'</li><li>'Children'</li><li>'Comedy'</li><li>'Crime'</li><li>'Documentary'</li><li>'Drama'</li><li>'Fantasy'</li><li>'FilmNoir'</li><li>'Horror'</li><li>'Musical'</li><li>'Mystery'</li><li>'Romance'</li><li>'SciFi'</li><li>'Thriller'</li><li>'War'</li><li>'Western'</li></ol>\n"
      ],
      "text/latex": [
       "\\begin{enumerate*}\n",
       "\\item 'userid'\n",
       "\\item 'age'\n",
       "\\item 'gender'\n",
       "\\item 'occupation'\n",
       "\\item 'zcode'\n",
       "\\item 'itemid'\n",
       "\\item 'rate'\n",
       "\\item 'timestamp'\n",
       "\\item 'title'\n",
       "\\item 'rdate'\n",
       "\\item 'vrdate'\n",
       "\\item 'IMDbURL'\n",
       "\\item 'unknown'\n",
       "\\item 'Action'\n",
       "\\item 'Adventure'\n",
       "\\item 'Animation'\n",
       "\\item 'Children'\n",
       "\\item 'Comedy'\n",
       "\\item 'Crime'\n",
       "\\item 'Documentary'\n",
       "\\item 'Drama'\n",
       "\\item 'Fantasy'\n",
       "\\item 'FilmNoir'\n",
       "\\item 'Horror'\n",
       "\\item 'Musical'\n",
       "\\item 'Mystery'\n",
       "\\item 'Romance'\n",
       "\\item 'SciFi'\n",
       "\\item 'Thriller'\n",
       "\\item 'War'\n",
       "\\item 'Western'\n",
       "\\end{enumerate*}\n"
      ],
      "text/markdown": [
       "1. 'userid'\n",
       "2. 'age'\n",
       "3. 'gender'\n",
       "4. 'occupation'\n",
       "5. 'zcode'\n",
       "6. 'itemid'\n",
       "7. 'rate'\n",
       "8. 'timestamp'\n",
       "9. 'title'\n",
       "10. 'rdate'\n",
       "11. 'vrdate'\n",
       "12. 'IMDbURL'\n",
       "13. 'unknown'\n",
       "14. 'Action'\n",
       "15. 'Adventure'\n",
       "16. 'Animation'\n",
       "17. 'Children'\n",
       "18. 'Comedy'\n",
       "19. 'Crime'\n",
       "20. 'Documentary'\n",
       "21. 'Drama'\n",
       "22. 'Fantasy'\n",
       "23. 'FilmNoir'\n",
       "24. 'Horror'\n",
       "25. 'Musical'\n",
       "26. 'Mystery'\n",
       "27. 'Romance'\n",
       "28. 'SciFi'\n",
       "29. 'Thriller'\n",
       "30. 'War'\n",
       "31. 'Western'\n",
       "\n",
       "\n"
      ],
      "text/plain": [
       " [1] \"userid\"      \"age\"         \"gender\"      \"occupation\"  \"zcode\"      \n",
       " [6] \"itemid\"      \"rate\"        \"timestamp\"   \"title\"       \"rdate\"      \n",
       "[11] \"vrdate\"      \"IMDbURL\"     \"unknown\"     \"Action\"      \"Adventure\"  \n",
       "[16] \"Animation\"   \"Children\"    \"Comedy\"      \"Crime\"       \"Documentary\"\n",
       "[21] \"Drama\"       \"Fantasy\"     \"FilmNoir\"    \"Horror\"      \"Musical\"    \n",
       "[26] \"Mystery\"     \"Romance\"     \"SciFi\"       \"Thriller\"    \"War\"        \n",
       "[31] \"Western\"    "
      ]
     },
     "metadata": {},
     "output_type": "display_data"
    }
   ],
   "source": [
    "colnames(info)\n"
   ]
  },
  {
   "cell_type": "code",
   "execution_count": 18,
   "metadata": {
    "vscode": {
     "languageId": "r"
    }
   },
   "outputs": [],
   "source": [
    "# Planteamiento para modelo de regresión logística\n",
    "# ¿Cómo puedo saber si una calificación fue hecha por un hombre o una mujer?\n",
    "\n",
    "# Se agrega una columna con el género del usuario en forma de bit, 1 para mujer y 0 para hombre,\n",
    "# esto con el fin de poder utilizarlo en el modelo de regresión logística\n",
    "info$gender_as_bit <- ifelse(info$gender == \"F\", 1, 0)\n"
   ]
  },
  {
   "cell_type": "code",
   "execution_count": 19,
   "metadata": {
    "vscode": {
     "languageId": "r"
    }
   },
   "outputs": [],
   "source": [
    "# Se separan los datos en entrenamiento y prueba\n",
    "separador_RL <- sample.split(info, SplitRatio = 0.8)\n",
    "info_entrenamiento_RL <- info[separador_RL, ]\n",
    "info_prueba_RL <- info[-separador_RL, ]\n"
   ]
  },
  {
   "cell_type": "code",
   "execution_count": 20,
   "metadata": {
    "vscode": {
     "languageId": "r"
    }
   },
   "outputs": [],
   "source": [
    "# Se crea el modelo de regresión logística\n",
    "\n",
    "modelo_RL <- glm(gender_as_bit ~ itemid + rate + unknown + Action + Adventure + Animation + Children + Comedy + Crime + Documentary + Drama + Fantasy + FilmNoir + Horror + Musical + Mystery + Romance + SciFi + Thriller + War + Western,\n",
    "    data = info_entrenamiento_RL,\n",
    "    family = binomial\n",
    ")\n"
   ]
  },
  {
   "cell_type": "code",
   "execution_count": 21,
   "metadata": {
    "vscode": {
     "languageId": "r"
    }
   },
   "outputs": [],
   "source": [
    "# Se obtienen 3 registros de prueba, sin la columna de género\n",
    "reg_prueba_RL <- info_prueba_RL[1:3, -info_prueba_RL$gender_as_bit]\n",
    "# Se obtienen las probabilidades de que el usuario sea hombre o mujer (la predicción)\n",
    "prediccion_RL <- predict(modelo_RL, reg_prueba_RL, type = \"response\")\n"
   ]
  },
  {
   "cell_type": "code",
   "execution_count": 22,
   "metadata": {
    "vscode": {
     "languageId": "r"
    }
   },
   "outputs": [
    {
     "data": {
      "text/html": [
       "<table class=\"dataframe\">\n",
       "<caption>A data.frame: 3 × 31</caption>\n",
       "<thead>\n",
       "\t<tr><th></th><th scope=col>age</th><th scope=col>gender</th><th scope=col>occupation</th><th scope=col>zcode</th><th scope=col>itemid</th><th scope=col>rate</th><th scope=col>timestamp</th><th scope=col>title</th><th scope=col>rdate</th><th scope=col>vrdate</th><th scope=col>⋯</th><th scope=col>FilmNoir</th><th scope=col>Horror</th><th scope=col>Musical</th><th scope=col>Mystery</th><th scope=col>Romance</th><th scope=col>SciFi</th><th scope=col>Thriller</th><th scope=col>War</th><th scope=col>Western</th><th scope=col>gender_as_bit</th></tr>\n",
       "\t<tr><th></th><th scope=col>&lt;int&gt;</th><th scope=col>&lt;chr&gt;</th><th scope=col>&lt;chr&gt;</th><th scope=col>&lt;chr&gt;</th><th scope=col>&lt;int&gt;</th><th scope=col>&lt;int&gt;</th><th scope=col>&lt;dbl&gt;</th><th scope=col>&lt;chr&gt;</th><th scope=col>&lt;chr&gt;</th><th scope=col>&lt;lgl&gt;</th><th scope=col>⋯</th><th scope=col>&lt;int&gt;</th><th scope=col>&lt;int&gt;</th><th scope=col>&lt;int&gt;</th><th scope=col>&lt;int&gt;</th><th scope=col>&lt;int&gt;</th><th scope=col>&lt;int&gt;</th><th scope=col>&lt;int&gt;</th><th scope=col>&lt;int&gt;</th><th scope=col>&lt;int&gt;</th><th scope=col>&lt;dbl&gt;</th></tr>\n",
       "</thead>\n",
       "<tbody>\n",
       "\t<tr><th scope=row>2</th><td>24</td><td>M</td><td>technician</td><td>85711</td><td>189</td><td>3</td><td>888732928</td><td>Grand Day Out, A (1992)   </td><td>01-Jan-1992</td><td>NA</td><td>⋯</td><td>0</td><td>0</td><td>0</td><td>0</td><td>0</td><td>0</td><td>0</td><td>0</td><td>0</td><td>0</td></tr>\n",
       "\t<tr><th scope=row>3</th><td>24</td><td>M</td><td>technician</td><td>85711</td><td> 33</td><td>4</td><td>878542699</td><td>Desperado (1995)          </td><td>01-Jan-1995</td><td>NA</td><td>⋯</td><td>0</td><td>0</td><td>0</td><td>0</td><td>1</td><td>0</td><td>1</td><td>0</td><td>0</td><td>0</td></tr>\n",
       "\t<tr><th scope=row>4</th><td>24</td><td>M</td><td>technician</td><td>85711</td><td>160</td><td>4</td><td>875072547</td><td>Glengarry Glen Ross (1992)</td><td>01-Jan-1992</td><td>NA</td><td>⋯</td><td>0</td><td>0</td><td>0</td><td>0</td><td>0</td><td>0</td><td>0</td><td>0</td><td>0</td><td>0</td></tr>\n",
       "</tbody>\n",
       "</table>\n"
      ],
      "text/latex": [
       "A data.frame: 3 × 31\n",
       "\\begin{tabular}{r|lllllllllllllllllllll}\n",
       "  & age & gender & occupation & zcode & itemid & rate & timestamp & title & rdate & vrdate & ⋯ & FilmNoir & Horror & Musical & Mystery & Romance & SciFi & Thriller & War & Western & gender\\_as\\_bit\\\\\n",
       "  & <int> & <chr> & <chr> & <chr> & <int> & <int> & <dbl> & <chr> & <chr> & <lgl> & ⋯ & <int> & <int> & <int> & <int> & <int> & <int> & <int> & <int> & <int> & <dbl>\\\\\n",
       "\\hline\n",
       "\t2 & 24 & M & technician & 85711 & 189 & 3 & 888732928 & Grand Day Out, A (1992)    & 01-Jan-1992 & NA & ⋯ & 0 & 0 & 0 & 0 & 0 & 0 & 0 & 0 & 0 & 0\\\\\n",
       "\t3 & 24 & M & technician & 85711 &  33 & 4 & 878542699 & Desperado (1995)           & 01-Jan-1995 & NA & ⋯ & 0 & 0 & 0 & 0 & 1 & 0 & 1 & 0 & 0 & 0\\\\\n",
       "\t4 & 24 & M & technician & 85711 & 160 & 4 & 875072547 & Glengarry Glen Ross (1992) & 01-Jan-1992 & NA & ⋯ & 0 & 0 & 0 & 0 & 0 & 0 & 0 & 0 & 0 & 0\\\\\n",
       "\\end{tabular}\n"
      ],
      "text/markdown": [
       "\n",
       "A data.frame: 3 × 31\n",
       "\n",
       "| <!--/--> | age &lt;int&gt; | gender &lt;chr&gt; | occupation &lt;chr&gt; | zcode &lt;chr&gt; | itemid &lt;int&gt; | rate &lt;int&gt; | timestamp &lt;dbl&gt; | title &lt;chr&gt; | rdate &lt;chr&gt; | vrdate &lt;lgl&gt; | ⋯ ⋯ | FilmNoir &lt;int&gt; | Horror &lt;int&gt; | Musical &lt;int&gt; | Mystery &lt;int&gt; | Romance &lt;int&gt; | SciFi &lt;int&gt; | Thriller &lt;int&gt; | War &lt;int&gt; | Western &lt;int&gt; | gender_as_bit &lt;dbl&gt; |\n",
       "|---|---|---|---|---|---|---|---|---|---|---|---|---|---|---|---|---|---|---|---|---|---|\n",
       "| 2 | 24 | M | technician | 85711 | 189 | 3 | 888732928 | Grand Day Out, A (1992)    | 01-Jan-1992 | NA | ⋯ | 0 | 0 | 0 | 0 | 0 | 0 | 0 | 0 | 0 | 0 |\n",
       "| 3 | 24 | M | technician | 85711 |  33 | 4 | 878542699 | Desperado (1995)           | 01-Jan-1995 | NA | ⋯ | 0 | 0 | 0 | 0 | 1 | 0 | 1 | 0 | 0 | 0 |\n",
       "| 4 | 24 | M | technician | 85711 | 160 | 4 | 875072547 | Glengarry Glen Ross (1992) | 01-Jan-1992 | NA | ⋯ | 0 | 0 | 0 | 0 | 0 | 0 | 0 | 0 | 0 | 0 |\n",
       "\n"
      ],
      "text/plain": [
       "  age gender occupation zcode itemid rate timestamp title                     \n",
       "2 24  M      technician 85711 189    3    888732928 Grand Day Out, A (1992)   \n",
       "3 24  M      technician 85711  33    4    878542699 Desperado (1995)          \n",
       "4 24  M      technician 85711 160    4    875072547 Glengarry Glen Ross (1992)\n",
       "  rdate       vrdate ⋯ FilmNoir Horror Musical Mystery Romance SciFi Thriller\n",
       "2 01-Jan-1992 NA     ⋯ 0        0      0       0       0       0     0       \n",
       "3 01-Jan-1995 NA     ⋯ 0        0      0       0       1       0     1       \n",
       "4 01-Jan-1992 NA     ⋯ 0        0      0       0       0       0     0       \n",
       "  War Western gender_as_bit\n",
       "2 0   0       0            \n",
       "3 0   0       0            \n",
       "4 0   0       0            "
      ]
     },
     "metadata": {},
     "output_type": "display_data"
    },
    {
     "data": {
      "text/html": [
       "<style>\n",
       ".dl-inline {width: auto; margin:0; padding: 0}\n",
       ".dl-inline>dt, .dl-inline>dd {float: none; width: auto; display: inline-block}\n",
       ".dl-inline>dt::after {content: \":\\0020\"; padding-right: .5ex}\n",
       ".dl-inline>dt:not(:first-of-type) {padding-left: .5ex}\n",
       "</style><dl class=dl-inline><dt>2</dt><dd>'M'</dd><dt>3</dt><dd>'M'</dd><dt>4</dt><dd>'M'</dd></dl>\n"
      ],
      "text/latex": [
       "\\begin{description*}\n",
       "\\item[2] 'M'\n",
       "\\item[3] 'M'\n",
       "\\item[4] 'M'\n",
       "\\end{description*}\n"
      ],
      "text/markdown": [
       "2\n",
       ":   'M'3\n",
       ":   'M'4\n",
       ":   'M'\n",
       "\n"
      ],
      "text/plain": [
       "  2   3   4 \n",
       "\"M\" \"M\" \"M\" "
      ]
     },
     "metadata": {},
     "output_type": "display_data"
    }
   ],
   "source": [
    "# Se obtiene la predicción final\n",
    "prediccion_RL <- ifelse(prediccion_RL > 0.5, \"F\", \"M\")\n",
    "reg_prueba_RL\n",
    "prediccion_RL\n"
   ]
  },
  {
   "cell_type": "code",
   "execution_count": 23,
   "metadata": {
    "vscode": {
     "languageId": "r"
    }
   },
   "outputs": [
    {
     "data": {
      "image/png": "[encoded data removed]",
      "text/plain": [
       "Plot with title \"Curva ROC para el modelo de regresión logística\""
      ]
     },
     "metadata": {
      "image/png": {
       "height": 420,
       "width": 420
      }
     },
     "output_type": "display_data"
    }
   ],
   "source": [
    "# Se hace una predicción para todos los registros de prueba\n",
    "prediccion_RL <- predict(modelo_RL, info_prueba_RL, type = \"response\")\n",
    "# Se usa la gráfica ROC para evaluar el modelo\n",
    "prediccion_RL <- prediction(prediccion_RL, info_prueba_RL$gender_as_bit)\n",
    "perf_RL <- performance(prediccion_RL, measure = \"tpr\", x.measure = \"fpr\")\n",
    "plot(perf_RL, colorize = TRUE, main = \"Curva ROC para el modelo de regresión logística\")\n",
    "abline(0, 1, lty = 2)\n"
   ]
  },
  {
   "cell_type": "markdown",
   "metadata": {},
   "source": [
    "A través de esta gráfica, se puede apreciar que el rendimiento de modelo es pobre, pues al probar con múltiples umbrales (thresholds) se nota como el modelo incrementa tu tasa de verdaderos positivos (cuando predice que la calificación fue dada por un usuario mujer y está en lo correcto), pero también su tasa de falsos positivos (se equivoca al decir que una calificación fue hecha por una mujer, cuando no fue así)\n",
    "\n",
    "De esto se puede terminar que, a partir de la complejidad de los datos, determinar si la calificación fue hecha por un hombre o una mujer no es una tarea factible."
   ]
  },
  {
   "cell_type": "code",
   "execution_count": 13,
   "metadata": {
    "vscode": {
     "languageId": "r"
    }
   },
   "outputs": [
    {
     "data": {
      "text/html": [
       "73"
      ],
      "text/latex": [
       "73"
      ],
      "text/markdown": [
       "73"
      ],
      "text/plain": [
       "[1] 73"
      ]
     },
     "metadata": {},
     "output_type": "display_data"
    },
    {
     "data": {
      "text/html": [
       "7"
      ],
      "text/latex": [
       "7"
      ],
      "text/markdown": [
       "7"
      ],
      "text/plain": [
       "[1] 7"
      ]
     },
     "metadata": {},
     "output_type": "display_data"
    }
   ],
   "source": [
    "# Planteamiento para modelo de análisis discriminante\n",
    "# Se desea saber el grupo etario de un usuario a partir de su ocupación, calificaciones,\n",
    "# género de las películas (se seleccionan 5) y sexo\n",
    "\n",
    "# Revisamos la edad máxima y mínima de los usuarios\n",
    "max(info$age)\n",
    "min(info$age)\n"
   ]
  },
  {
   "cell_type": "code",
   "execution_count": 14,
   "metadata": {
    "vscode": {
     "languageId": "r"
    }
   },
   "outputs": [],
   "source": [
    "# Se crea una columna con el grupo etario del usuario, \"ñ\" para niños, \"a\" para adolescentes, \"A\" para adultos y \"AM\" para adultos mayores\n",
    "info$age_group <- ifelse(info$age < 10, \"ñ\",\n",
    "    ifelse(info$age < 18, \"a\",\n",
    "        ifelse(info$age < 60, \"A\", \"AM\")\n",
    "    )\n",
    ")\n"
   ]
  },
  {
   "cell_type": "code",
   "execution_count": 15,
   "metadata": {
    "vscode": {
     "languageId": "r"
    }
   },
   "outputs": [],
   "source": [
    "info_p_AD <- info\n",
    "# Se aplica la función scale() para asegurar los prerrequisitos del modelo (media 0 y desviación estándar 1)\n",
    "# Se aplica para las columnas numéricas\n",
    "info_p_AD[, sapply(info_p_AD, is.numeric)] <- scale(info[, sapply(info, is.numeric)])\n"
   ]
  },
  {
   "cell_type": "code",
   "execution_count": 16,
   "metadata": {
    "vscode": {
     "languageId": "r"
    }
   },
   "outputs": [],
   "source": [
    "# A cada ocupación diferente se le asigna un número\n",
    "info_p_AD$occupation_as_n <- as.numeric(factor(info_p_AD$occupation))\n",
    "info_p_AD$occupation_as_n <- scale(info_p_AD$occupation_as_n)\n"
   ]
  },
  {
   "cell_type": "code",
   "execution_count": 17,
   "metadata": {
    "vscode": {
     "languageId": "r"
    }
   },
   "outputs": [
    {
     "data": {
      "text/html": [
       "<style>\n",
       ".dl-inline {width: auto; margin:0; padding: 0}\n",
       ".dl-inline>dt, .dl-inline>dd {float: none; width: auto; display: inline-block}\n",
       ".dl-inline>dt::after {content: \":\\0020\"; padding-right: .5ex}\n",
       ".dl-inline>dt:not(:first-of-type) {padding-left: .5ex}\n",
       "</style><dl class=dl-inline><dt>userid</dt><dd>-3.27870846791867e-17</dd><dt>age</dt><dd>-1.17503262979032e-16</dd><dt>itemid</dt><dd>4.18349770515795e-17</dd><dt>rate</dt><dd>-1.9700951807422e-16</dd><dt>timestamp</dt><dd>-8.01597080054596e-15</dd><dt>unknown</dt><dd>4.5544469617128e-18</dd><dt>Action</dt><dd>1.19982225110088e-17</dd><dt>Adventure</dt><dd>-3.6888116259487e-17</dd><dt>Animation</dt><dd>2.44849336660836e-17</dd><dt>Children</dt><dd>2.28238570621278e-17</dd><dt>Comedy</dt><dd>6.62573143052347e-17</dd><dt>Crime</dt><dd>1.76850867934439e-17</dd><dt>Documentary</dt><dd>-1.41769720420591e-18</dd><dt>Drama</dt><dd>-2.54123555965685e-17</dd><dt>Fantasy</dt><dd>-4.5409517617466e-19</dd><dt>FilmNoir</dt><dd>-4.97475758504118e-18</dd><dt>Horror</dt><dd>1.20070910137292e-17</dd><dt>Musical</dt><dd>-1.30812811212529e-17</dd><dt>Mystery</dt><dd>3.40904434130602e-17</dd><dt>Romance</dt><dd>-2.12063976405205e-17</dd><dt>SciFi</dt><dd>5.00228547820059e-18</dd><dt>Thriller</dt><dd>1.48351263998953e-17</dd><dt>War</dt><dd>1.58990165867803e-17</dd><dt>Western</dt><dd>-2.13515682456582e-17</dd><dt>gender_as_bit</dt><dd>-9.7371580199887e-17</dd><dt>occupation_as_n</dt><dd>3.12009532793533e-19</dd></dl>\n"
      ],
      "text/latex": [
       "\\begin{description*}\n",
       "\\item[userid] -3.27870846791867e-17\n",
       "\\item[age] -1.17503262979032e-16\n",
       "\\item[itemid] 4.18349770515795e-17\n",
       "\\item[rate] -1.9700951807422e-16\n",
       "\\item[timestamp] -8.01597080054596e-15\n",
       "\\item[unknown] 4.5544469617128e-18\n",
       "\\item[Action] 1.19982225110088e-17\n",
       "\\item[Adventure] -3.6888116259487e-17\n",
       "\\item[Animation] 2.44849336660836e-17\n",
       "\\item[Children] 2.28238570621278e-17\n",
       "\\item[Comedy] 6.62573143052347e-17\n",
       "\\item[Crime] 1.76850867934439e-17\n",
       "\\item[Documentary] -1.41769720420591e-18\n",
       "\\item[Drama] -2.54123555965685e-17\n",
       "\\item[Fantasy] -4.5409517617466e-19\n",
       "\\item[FilmNoir] -4.97475758504118e-18\n",
       "\\item[Horror] 1.20070910137292e-17\n",
       "\\item[Musical] -1.30812811212529e-17\n",
       "\\item[Mystery] 3.40904434130602e-17\n",
       "\\item[Romance] -2.12063976405205e-17\n",
       "\\item[SciFi] 5.00228547820059e-18\n",
       "\\item[Thriller] 1.48351263998953e-17\n",
       "\\item[War] 1.58990165867803e-17\n",
       "\\item[Western] -2.13515682456582e-17\n",
       "\\item[gender\\textbackslash{}\\_as\\textbackslash{}\\_bit] -9.7371580199887e-17\n",
       "\\item[occupation\\textbackslash{}\\_as\\textbackslash{}\\_n] 3.12009532793533e-19\n",
       "\\end{description*}\n"
      ],
      "text/markdown": [
       "userid\n",
       ":   -3.27870846791867e-17age\n",
       ":   -1.17503262979032e-16itemid\n",
       ":   4.18349770515795e-17rate\n",
       ":   -1.9700951807422e-16timestamp\n",
       ":   -8.01597080054596e-15unknown\n",
       ":   4.5544469617128e-18Action\n",
       ":   1.19982225110088e-17Adventure\n",
       ":   -3.6888116259487e-17Animation\n",
       ":   2.44849336660836e-17Children\n",
       ":   2.28238570621278e-17Comedy\n",
       ":   6.62573143052347e-17Crime\n",
       ":   1.76850867934439e-17Documentary\n",
       ":   -1.41769720420591e-18Drama\n",
       ":   -2.54123555965685e-17Fantasy\n",
       ":   -4.5409517617466e-19FilmNoir\n",
       ":   -4.97475758504118e-18Horror\n",
       ":   1.20070910137292e-17Musical\n",
       ":   -1.30812811212529e-17Mystery\n",
       ":   3.40904434130602e-17Romance\n",
       ":   -2.12063976405205e-17SciFi\n",
       ":   5.00228547820059e-18Thriller\n",
       ":   1.48351263998953e-17War\n",
       ":   1.58990165867803e-17Western\n",
       ":   -2.13515682456582e-17gender_as_bit\n",
       ":   -9.7371580199887e-17occupation_as_n\n",
       ":   3.12009532793533e-19\n",
       "\n"
      ],
      "text/plain": [
       "         userid             age          itemid            rate       timestamp \n",
       "  -3.278708e-17   -1.175033e-16    4.183498e-17   -1.970095e-16   -8.015971e-15 \n",
       "        unknown          Action       Adventure       Animation        Children \n",
       "   4.554447e-18    1.199822e-17   -3.688812e-17    2.448493e-17    2.282386e-17 \n",
       "         Comedy           Crime     Documentary           Drama         Fantasy \n",
       "   6.625731e-17    1.768509e-17   -1.417697e-18   -2.541236e-17   -4.540952e-19 \n",
       "       FilmNoir          Horror         Musical         Mystery         Romance \n",
       "  -4.974758e-18    1.200709e-17   -1.308128e-17    3.409044e-17   -2.120640e-17 \n",
       "          SciFi        Thriller             War         Western   gender_as_bit \n",
       "   5.002285e-18    1.483513e-17    1.589902e-17   -2.135157e-17   -9.737158e-17 \n",
       "occupation_as_n \n",
       "   3.120095e-19 "
      ]
     },
     "metadata": {},
     "output_type": "display_data"
    },
    {
     "data": {
      "text/html": [
       "<style>\n",
       ".dl-inline {width: auto; margin:0; padding: 0}\n",
       ".dl-inline>dt, .dl-inline>dd {float: none; width: auto; display: inline-block}\n",
       ".dl-inline>dt::after {content: \":\\0020\"; padding-right: .5ex}\n",
       ".dl-inline>dt:not(:first-of-type) {padding-left: .5ex}\n",
       "</style><dl class=dl-inline><dt>userid</dt><dd>1</dd><dt>age</dt><dd>1</dd><dt>itemid</dt><dd>1</dd><dt>rate</dt><dd>1</dd><dt>timestamp</dt><dd>1</dd><dt>unknown</dt><dd>1</dd><dt>Action</dt><dd>1</dd><dt>Adventure</dt><dd>1</dd><dt>Animation</dt><dd>1</dd><dt>Children</dt><dd>1</dd><dt>Comedy</dt><dd>0.999999999999999</dd><dt>Crime</dt><dd>1</dd><dt>Documentary</dt><dd>1</dd><dt>Drama</dt><dd>1</dd><dt>Fantasy</dt><dd>1</dd><dt>FilmNoir</dt><dd>1</dd><dt>Horror</dt><dd>1</dd><dt>Musical</dt><dd>1</dd><dt>Mystery</dt><dd>1</dd><dt>Romance</dt><dd>1</dd><dt>SciFi</dt><dd>1</dd><dt>Thriller</dt><dd>1</dd><dt>War</dt><dd>1</dd><dt>Western</dt><dd>0.999999999999999</dd><dt>gender_as_bit</dt><dd>1</dd><dt>occupation_as_n</dt><dd>1</dd></dl>\n"
      ],
      "text/latex": [
       "\\begin{description*}\n",
       "\\item[userid] 1\n",
       "\\item[age] 1\n",
       "\\item[itemid] 1\n",
       "\\item[rate] 1\n",
       "\\item[timestamp] 1\n",
       "\\item[unknown] 1\n",
       "\\item[Action] 1\n",
       "\\item[Adventure] 1\n",
       "\\item[Animation] 1\n",
       "\\item[Children] 1\n",
       "\\item[Comedy] 0.999999999999999\n",
       "\\item[Crime] 1\n",
       "\\item[Documentary] 1\n",
       "\\item[Drama] 1\n",
       "\\item[Fantasy] 1\n",
       "\\item[FilmNoir] 1\n",
       "\\item[Horror] 1\n",
       "\\item[Musical] 1\n",
       "\\item[Mystery] 1\n",
       "\\item[Romance] 1\n",
       "\\item[SciFi] 1\n",
       "\\item[Thriller] 1\n",
       "\\item[War] 1\n",
       "\\item[Western] 0.999999999999999\n",
       "\\item[gender\\textbackslash{}\\_as\\textbackslash{}\\_bit] 1\n",
       "\\item[occupation\\textbackslash{}\\_as\\textbackslash{}\\_n] 1\n",
       "\\end{description*}\n"
      ],
      "text/markdown": [
       "userid\n",
       ":   1age\n",
       ":   1itemid\n",
       ":   1rate\n",
       ":   1timestamp\n",
       ":   1unknown\n",
       ":   1Action\n",
       ":   1Adventure\n",
       ":   1Animation\n",
       ":   1Children\n",
       ":   1Comedy\n",
       ":   0.999999999999999Crime\n",
       ":   1Documentary\n",
       ":   1Drama\n",
       ":   1Fantasy\n",
       ":   1FilmNoir\n",
       ":   1Horror\n",
       ":   1Musical\n",
       ":   1Mystery\n",
       ":   1Romance\n",
       ":   1SciFi\n",
       ":   1Thriller\n",
       ":   1War\n",
       ":   1Western\n",
       ":   0.999999999999999gender_as_bit\n",
       ":   1occupation_as_n\n",
       ":   1\n",
       "\n"
      ],
      "text/plain": [
       "         userid             age          itemid            rate       timestamp \n",
       "              1               1               1               1               1 \n",
       "        unknown          Action       Adventure       Animation        Children \n",
       "              1               1               1               1               1 \n",
       "         Comedy           Crime     Documentary           Drama         Fantasy \n",
       "              1               1               1               1               1 \n",
       "       FilmNoir          Horror         Musical         Mystery         Romance \n",
       "              1               1               1               1               1 \n",
       "          SciFi        Thriller             War         Western   gender_as_bit \n",
       "              1               1               1               1               1 \n",
       "occupation_as_n \n",
       "              1 "
      ]
     },
     "metadata": {},
     "output_type": "display_data"
    }
   ],
   "source": [
    "# Se verifica\n",
    "apply(info_p_AD[, sapply(info_p_AD, is.numeric)], 2, mean)\n",
    "apply(info_p_AD[, sapply(info_p_AD, is.numeric)], 2, sd)\n"
   ]
  },
  {
   "cell_type": "code",
   "execution_count": 18,
   "metadata": {
    "vscode": {
     "languageId": "r"
    }
   },
   "outputs": [],
   "source": [
    "# Se separan las muestras en entrenamiento y prueba\n",
    "separador_AD <- sample(1:nrow(info_p_AD), 0.8 * nrow(info_p_AD))\n",
    "info_entrenamiento_AD <- info_p_AD[separador_AD, ]\n",
    "info_prueba_AD <- info_p_AD[-separador_AD, ]\n"
   ]
  },
  {
   "cell_type": "code",
   "execution_count": 19,
   "metadata": {
    "vscode": {
     "languageId": "r"
    }
   },
   "outputs": [],
   "source": [
    "# Se crea el modelo de análisis discriminante, seleccionando 5 géneros de películas como referencia\n",
    "modelo_AD <- lda(age_group ~ rate + occupation_as_n + gender_as_bit + Action + Children + Crime + Romance + SciFi,\n",
    "    data = info_entrenamiento_AD\n",
    ")\n"
   ]
  },
  {
   "cell_type": "code",
   "execution_count": 20,
   "metadata": {
    "vscode": {
     "languageId": "r"
    }
   },
   "outputs": [],
   "source": [
    "# Se obtienen 3 registros de prueba, sin la columna de grupo etario\n",
    "reg_prueba_AD <- info_prueba_AD[1:3, ]\n",
    "# Se obtienen las probabilidades de que el usuario pertenezca a cada grupo etario (la predicción)\n",
    "prediccion_AD <- predict(modelo_AD, reg_prueba_AD)\n"
   ]
  },
  {
   "cell_type": "code",
   "execution_count": 21,
   "metadata": {
    "vscode": {
     "languageId": "r"
    }
   },
   "outputs": [
    {
     "data": {
      "text/html": [
       "<table class=\"dataframe\">\n",
       "<caption>A data.frame: 3 × 34</caption>\n",
       "<thead>\n",
       "\t<tr><th></th><th scope=col>userid</th><th scope=col>age</th><th scope=col>gender</th><th scope=col>occupation</th><th scope=col>zcode</th><th scope=col>itemid</th><th scope=col>rate</th><th scope=col>timestamp</th><th scope=col>title</th><th scope=col>rdate</th><th scope=col>⋯</th><th scope=col>Musical</th><th scope=col>Mystery</th><th scope=col>Romance</th><th scope=col>SciFi</th><th scope=col>Thriller</th><th scope=col>War</th><th scope=col>Western</th><th scope=col>gender_as_bit</th><th scope=col>age_group</th><th scope=col>occupation_as_n</th></tr>\n",
       "\t<tr><th></th><th scope=col>&lt;dbl&gt;</th><th scope=col>&lt;dbl&gt;</th><th scope=col>&lt;chr&gt;</th><th scope=col>&lt;chr&gt;</th><th scope=col>&lt;chr&gt;</th><th scope=col>&lt;dbl&gt;</th><th scope=col>&lt;dbl&gt;</th><th scope=col>&lt;dbl&gt;</th><th scope=col>&lt;chr&gt;</th><th scope=col>&lt;chr&gt;</th><th scope=col>⋯</th><th scope=col>&lt;dbl&gt;</th><th scope=col>&lt;dbl&gt;</th><th scope=col>&lt;dbl&gt;</th><th scope=col>&lt;dbl&gt;</th><th scope=col>&lt;dbl&gt;</th><th scope=col>&lt;dbl&gt;</th><th scope=col>&lt;dbl&gt;</th><th scope=col>&lt;dbl&gt;</th><th scope=col>&lt;chr&gt;</th><th scope=col>&lt;dbl[,1]&gt;</th></tr>\n",
       "</thead>\n",
       "<tbody>\n",
       "\t<tr><th scope=row>1</th><td>-1.730907</td><td>-0.7757625</td><td>M</td><td>technician</td><td>85711</td><td>-1.1019708</td><td>0.4176522</td><td>-0.9331148</td><td>Three Colors: White (1994)     </td><td>01-Jan-1994</td><td>⋯</td><td>-0.2283016</td><td>-0.2352716</td><td>-0.4915609</td><td>-0.3819263</td><td>-0.5291012</td><td>-0.3220673</td><td>-0.137441</td><td>-0.5887415</td><td>A</td><td>1.196413</td></tr>\n",
       "\t<tr><th scope=row>12</th><td>-1.730907</td><td>-0.7757625</td><td>M</td><td>technician</td><td>85711</td><td>-0.6152695</td><td>0.4176522</td><td>-0.8711805</td><td>Star Trek: First Contact (1996)</td><td>22-Nov-1996</td><td>⋯</td><td>-0.2283016</td><td>-0.2352716</td><td>-0.4915609</td><td> 2.6182802</td><td>-0.5291012</td><td>-0.3220673</td><td>-0.137441</td><td>-0.5887415</td><td>A</td><td>1.196413</td></tr>\n",
       "\t<tr><th scope=row>13</th><td>-1.730907</td><td>-0.7757625</td><td>M</td><td>technician</td><td>85711</td><td>-0.5215568</td><td>1.3060091</td><td>-1.6023787</td><td>Pillow Book, The (1995)        </td><td>13-Jun-1997</td><td>⋯</td><td>-0.2283016</td><td>-0.2352716</td><td> 2.0343158</td><td>-0.3819263</td><td>-0.5291012</td><td>-0.3220673</td><td>-0.137441</td><td>-0.5887415</td><td>A</td><td>1.196413</td></tr>\n",
       "</tbody>\n",
       "</table>\n"
      ],
      "text/latex": [
       "A data.frame: 3 × 34\n",
       "\\begin{tabular}{r|lllllllllllllllllllll}\n",
       "  & userid & age & gender & occupation & zcode & itemid & rate & timestamp & title & rdate & ⋯ & Musical & Mystery & Romance & SciFi & Thriller & War & Western & gender\\_as\\_bit & age\\_group & occupation\\_as\\_n\\\\\n",
       "  & <dbl> & <dbl> & <chr> & <chr> & <chr> & <dbl> & <dbl> & <dbl> & <chr> & <chr> & ⋯ & <dbl> & <dbl> & <dbl> & <dbl> & <dbl> & <dbl> & <dbl> & <dbl> & <chr> & <dbl{[},1{]}>\\\\\n",
       "\\hline\n",
       "\t1 & -1.730907 & -0.7757625 & M & technician & 85711 & -1.1019708 & 0.4176522 & -0.9331148 & Three Colors: White (1994)      & 01-Jan-1994 & ⋯ & -0.2283016 & -0.2352716 & -0.4915609 & -0.3819263 & -0.5291012 & -0.3220673 & -0.137441 & -0.5887415 & A & 1.196413\\\\\n",
       "\t12 & -1.730907 & -0.7757625 & M & technician & 85711 & -0.6152695 & 0.4176522 & -0.8711805 & Star Trek: First Contact (1996) & 22-Nov-1996 & ⋯ & -0.2283016 & -0.2352716 & -0.4915609 &  2.6182802 & -0.5291012 & -0.3220673 & -0.137441 & -0.5887415 & A & 1.196413\\\\\n",
       "\t13 & -1.730907 & -0.7757625 & M & technician & 85711 & -0.5215568 & 1.3060091 & -1.6023787 & Pillow Book, The (1995)         & 13-Jun-1997 & ⋯ & -0.2283016 & -0.2352716 &  2.0343158 & -0.3819263 & -0.5291012 & -0.3220673 & -0.137441 & -0.5887415 & A & 1.196413\\\\\n",
       "\\end{tabular}\n"
      ],
      "text/markdown": [
       "\n",
       "A data.frame: 3 × 34\n",
       "\n",
       "| <!--/--> | userid &lt;dbl&gt; | age &lt;dbl&gt; | gender &lt;chr&gt; | occupation &lt;chr&gt; | zcode &lt;chr&gt; | itemid &lt;dbl&gt; | rate &lt;dbl&gt; | timestamp &lt;dbl&gt; | title &lt;chr&gt; | rdate &lt;chr&gt; | ⋯ ⋯ | Musical &lt;dbl&gt; | Mystery &lt;dbl&gt; | Romance &lt;dbl&gt; | SciFi &lt;dbl&gt; | Thriller &lt;dbl&gt; | War &lt;dbl&gt; | Western &lt;dbl&gt; | gender_as_bit &lt;dbl&gt; | age_group &lt;chr&gt; | occupation_as_n &lt;dbl[,1]&gt; |\n",
       "|---|---|---|---|---|---|---|---|---|---|---|---|---|---|---|---|---|---|---|---|---|---|\n",
       "| 1 | -1.730907 | -0.7757625 | M | technician | 85711 | -1.1019708 | 0.4176522 | -0.9331148 | Three Colors: White (1994)      | 01-Jan-1994 | ⋯ | -0.2283016 | -0.2352716 | -0.4915609 | -0.3819263 | -0.5291012 | -0.3220673 | -0.137441 | -0.5887415 | A | 1.196413 |\n",
       "| 12 | -1.730907 | -0.7757625 | M | technician | 85711 | -0.6152695 | 0.4176522 | -0.8711805 | Star Trek: First Contact (1996) | 22-Nov-1996 | ⋯ | -0.2283016 | -0.2352716 | -0.4915609 |  2.6182802 | -0.5291012 | -0.3220673 | -0.137441 | -0.5887415 | A | 1.196413 |\n",
       "| 13 | -1.730907 | -0.7757625 | M | technician | 85711 | -0.5215568 | 1.3060091 | -1.6023787 | Pillow Book, The (1995)         | 13-Jun-1997 | ⋯ | -0.2283016 | -0.2352716 |  2.0343158 | -0.3819263 | -0.5291012 | -0.3220673 | -0.137441 | -0.5887415 | A | 1.196413 |\n",
       "\n"
      ],
      "text/plain": [
       "   userid    age        gender occupation zcode itemid     rate      timestamp \n",
       "1  -1.730907 -0.7757625 M      technician 85711 -1.1019708 0.4176522 -0.9331148\n",
       "12 -1.730907 -0.7757625 M      technician 85711 -0.6152695 0.4176522 -0.8711805\n",
       "13 -1.730907 -0.7757625 M      technician 85711 -0.5215568 1.3060091 -1.6023787\n",
       "   title                           rdate       ⋯ Musical    Mystery   \n",
       "1  Three Colors: White (1994)      01-Jan-1994 ⋯ -0.2283016 -0.2352716\n",
       "12 Star Trek: First Contact (1996) 22-Nov-1996 ⋯ -0.2283016 -0.2352716\n",
       "13 Pillow Book, The (1995)         13-Jun-1997 ⋯ -0.2283016 -0.2352716\n",
       "   Romance    SciFi      Thriller   War        Western   gender_as_bit\n",
       "1  -0.4915609 -0.3819263 -0.5291012 -0.3220673 -0.137441 -0.5887415   \n",
       "12 -0.4915609  2.6182802 -0.5291012 -0.3220673 -0.137441 -0.5887415   \n",
       "13  2.0343158 -0.3819263 -0.5291012 -0.3220673 -0.137441 -0.5887415   \n",
       "   age_group occupation_as_n\n",
       "1  A         1.196413       \n",
       "12 A         1.196413       \n",
       "13 A         1.196413       "
      ]
     },
     "metadata": {},
     "output_type": "display_data"
    },
    {
     "data": {
      "text/html": [
       "<dl>\n",
       "\t<dt>$class</dt>\n",
       "\t\t<dd><style>\n",
       ".list-inline {list-style: none; margin:0; padding: 0}\n",
       ".list-inline>li {display: inline-block}\n",
       ".list-inline>li:not(:last-child)::after {content: \"\\00b7\"; padding: 0 .5ex}\n",
       "</style>\n",
       "<ol class=list-inline><li>A</li><li>A</li><li>A</li></ol>\n",
       "\n",
       "<details>\n",
       "\t<summary style=display:list-item;cursor:pointer>\n",
       "\t\t<strong>Levels</strong>:\n",
       "\t</summary>\n",
       "\t<style>\n",
       "\t.list-inline {list-style: none; margin:0; padding: 0}\n",
       "\t.list-inline>li {display: inline-block}\n",
       "\t.list-inline>li:not(:last-child)::after {content: \"\\00b7\"; padding: 0 .5ex}\n",
       "\t</style>\n",
       "\t<ol class=list-inline><li>'a'</li><li>'A'</li><li>'AM'</li><li>'ñ'</li></ol>\n",
       "</details></dd>\n",
       "\t<dt>$posterior</dt>\n",
       "\t\t<dd><table class=\"dataframe\">\n",
       "<caption>A matrix: 3 × 4 of type dbl</caption>\n",
       "<thead>\n",
       "\t<tr><th></th><th scope=col>a</th><th scope=col>A</th><th scope=col>AM</th><th scope=col>ñ</th></tr>\n",
       "</thead>\n",
       "<tbody>\n",
       "\t<tr><th scope=row>1</th><td>0.03927417</td><td>0.9175351</td><td>0.04252513</td><td>0.0006656147</td></tr>\n",
       "\t<tr><th scope=row>12</th><td>0.04562316</td><td>0.9331500</td><td>0.01907439</td><td>0.0021524867</td></tr>\n",
       "\t<tr><th scope=row>13</th><td>0.03610820</td><td>0.9117856</td><td>0.05023596</td><td>0.0018702482</td></tr>\n",
       "</tbody>\n",
       "</table>\n",
       "</dd>\n",
       "\t<dt>$x</dt>\n",
       "\t\t<dd><table class=\"dataframe\">\n",
       "<caption>A matrix: 3 × 3 of type dbl</caption>\n",
       "<thead>\n",
       "\t<tr><th></th><th scope=col>LD1</th><th scope=col>LD2</th><th scope=col>LD3</th></tr>\n",
       "</thead>\n",
       "<tbody>\n",
       "\t<tr><th scope=row>1</th><td>-0.8632885</td><td> 1.18641852</td><td>-0.5662896</td></tr>\n",
       "\t<tr><th scope=row>12</th><td>-1.1508896</td><td>-0.07824143</td><td> 1.9442907</td></tr>\n",
       "\t<tr><th scope=row>13</th><td>-0.7777013</td><td> 1.48606838</td><td> 0.7510413</td></tr>\n",
       "</tbody>\n",
       "</table>\n",
       "</dd>\n",
       "</dl>\n"
      ],
      "text/latex": [
       "\\begin{description}\n",
       "\\item[\\$class] \\begin{enumerate*}\n",
       "\\item A\n",
       "\\item A\n",
       "\\item A\n",
       "\\end{enumerate*}\n",
       "\n",
       "\\emph{Levels}: \\begin{enumerate*}\n",
       "\\item 'a'\n",
       "\\item 'A'\n",
       "\\item 'AM'\n",
       "\\item 'ñ'\n",
       "\\end{enumerate*}\n",
       "\n",
       "\\item[\\$posterior] A matrix: 3 × 4 of type dbl\n",
       "\\begin{tabular}{r|llll}\n",
       "  & a & A & AM & ñ\\\\\n",
       "\\hline\n",
       "\t1 & 0.03927417 & 0.9175351 & 0.04252513 & 0.0006656147\\\\\n",
       "\t12 & 0.04562316 & 0.9331500 & 0.01907439 & 0.0021524867\\\\\n",
       "\t13 & 0.03610820 & 0.9117856 & 0.05023596 & 0.0018702482\\\\\n",
       "\\end{tabular}\n",
       "\n",
       "\\item[\\$x] A matrix: 3 × 3 of type dbl\n",
       "\\begin{tabular}{r|lll}\n",
       "  & LD1 & LD2 & LD3\\\\\n",
       "\\hline\n",
       "\t1 & -0.8632885 &  1.18641852 & -0.5662896\\\\\n",
       "\t12 & -1.1508896 & -0.07824143 &  1.9442907\\\\\n",
       "\t13 & -0.7777013 &  1.48606838 &  0.7510413\\\\\n",
       "\\end{tabular}\n",
       "\n",
       "\\end{description}\n"
      ],
      "text/markdown": [
       "$class\n",
       ":   1. A\n",
       "2. A\n",
       "3. A\n",
       "\n",
       "\n",
       "\n",
       "**Levels**: 1. 'a'\n",
       "2. 'A'\n",
       "3. 'AM'\n",
       "4. 'ñ'\n",
       "\n",
       "\n",
       "\n",
       "$posterior\n",
       ":   \n",
       "A matrix: 3 × 4 of type dbl\n",
       "\n",
       "| <!--/--> | a | A | AM | ñ |\n",
       "|---|---|---|---|---|\n",
       "| 1 | 0.03927417 | 0.9175351 | 0.04252513 | 0.0006656147 |\n",
       "| 12 | 0.04562316 | 0.9331500 | 0.01907439 | 0.0021524867 |\n",
       "| 13 | 0.03610820 | 0.9117856 | 0.05023596 | 0.0018702482 |\n",
       "\n",
       "\n",
       "$x\n",
       ":   \n",
       "A matrix: 3 × 3 of type dbl\n",
       "\n",
       "| <!--/--> | LD1 | LD2 | LD3 |\n",
       "|---|---|---|---|\n",
       "| 1 | -0.8632885 |  1.18641852 | -0.5662896 |\n",
       "| 12 | -1.1508896 | -0.07824143 |  1.9442907 |\n",
       "| 13 | -0.7777013 |  1.48606838 |  0.7510413 |\n",
       "\n",
       "\n",
       "\n",
       "\n"
      ],
      "text/plain": [
       "$class\n",
       "[1] A A A\n",
       "Levels: a A AM ñ\n",
       "\n",
       "$posterior\n",
       "            a         A         AM            ñ\n",
       "1  0.03927417 0.9175351 0.04252513 0.0006656147\n",
       "12 0.04562316 0.9331500 0.01907439 0.0021524867\n",
       "13 0.03610820 0.9117856 0.05023596 0.0018702482\n",
       "\n",
       "$x\n",
       "          LD1         LD2        LD3\n",
       "1  -0.8632885  1.18641852 -0.5662896\n",
       "12 -1.1508896 -0.07824143  1.9442907\n",
       "13 -0.7777013  1.48606838  0.7510413\n"
      ]
     },
     "metadata": {},
     "output_type": "display_data"
    }
   ],
   "source": [
    "reg_prueba_AD\n",
    "prediccion_AD\n"
   ]
  },
  {
   "cell_type": "code",
   "execution_count": 22,
   "metadata": {
    "vscode": {
     "languageId": "r"
    }
   },
   "outputs": [],
   "source": [
    "prediccion_AD <- predict(modelo_AD, info_prueba_AD)$x\n"
   ]
  },
  {
   "cell_type": "code",
   "execution_count": 23,
   "metadata": {
    "vscode": {
     "languageId": "r"
    }
   },
   "outputs": [
    {
     "data": {
      "image/png": "[encoded data removed]",
      "text/plain": [
       "plot without title"
      ]
     },
     "metadata": {
      "image/png": {
       "height": 420,
       "width": 420
      }
     },
     "output_type": "display_data"
    }
   ],
   "source": [
    "plot_AD <- cbind(info_entrenamiento_AD, prediccion_AD)\n",
    "# Realizamos una predicción para todos los datos de prueba y observamos la separación de los grupos\n",
    "ggplot(plot_AD, aes(LD1, LD2)) +\n",
    "  geom_point(aes(color = age_group))\n"
   ]
  },
  {
   "cell_type": "markdown",
   "metadata": {},
   "source": [
    "A través de este gráfico se puede concluir que, tal como se mecionaba con anterioridad, los datos son bastante heterogeneos, por lo que realizar una separación de los grupos etarios presenta un desafío para el modelo de análisis discriminante, debido a que muchos usuarios de diferentes edades comparten gustos de cine.\n",
    "\n",
    "Para realizar esta separación con mayor éxito, debe existir una descripción más exhaustiva del usuario que califica la película, así como posiblemente emplear más columnas de género para aumentar la precisión del modelo de AD."
   ]
  },
  {
   "cell_type": "code",
   "execution_count": 24,
   "metadata": {
    "vscode": {
     "languageId": "r"
    }
   },
   "outputs": [
    {
     "data": {
      "text/html": [
       "<table class=\"dataframe\">\n",
       "<caption>A data.frame: 6 × 3</caption>\n",
       "<thead>\n",
       "\t<tr><th></th><th scope=col>age</th><th scope=col>rate</th><th scope=col>occupation</th></tr>\n",
       "\t<tr><th></th><th scope=col>&lt;int&gt;</th><th scope=col>&lt;int&gt;</th><th scope=col>&lt;chr&gt;</th></tr>\n",
       "</thead>\n",
       "<tbody>\n",
       "\t<tr><th scope=row>1</th><td>24</td><td>4</td><td>technician</td></tr>\n",
       "\t<tr><th scope=row>2</th><td>24</td><td>3</td><td>technician</td></tr>\n",
       "\t<tr><th scope=row>3</th><td>24</td><td>4</td><td>technician</td></tr>\n",
       "\t<tr><th scope=row>4</th><td>24</td><td>4</td><td>technician</td></tr>\n",
       "\t<tr><th scope=row>5</th><td>24</td><td>4</td><td>technician</td></tr>\n",
       "\t<tr><th scope=row>6</th><td>24</td><td>5</td><td>technician</td></tr>\n",
       "</tbody>\n",
       "</table>\n"
      ],
      "text/latex": [
       "A data.frame: 6 × 3\n",
       "\\begin{tabular}{r|lll}\n",
       "  & age & rate & occupation\\\\\n",
       "  & <int> & <int> & <chr>\\\\\n",
       "\\hline\n",
       "\t1 & 24 & 4 & technician\\\\\n",
       "\t2 & 24 & 3 & technician\\\\\n",
       "\t3 & 24 & 4 & technician\\\\\n",
       "\t4 & 24 & 4 & technician\\\\\n",
       "\t5 & 24 & 4 & technician\\\\\n",
       "\t6 & 24 & 5 & technician\\\\\n",
       "\\end{tabular}\n"
      ],
      "text/markdown": [
       "\n",
       "A data.frame: 6 × 3\n",
       "\n",
       "| <!--/--> | age &lt;int&gt; | rate &lt;int&gt; | occupation &lt;chr&gt; |\n",
       "|---|---|---|---|\n",
       "| 1 | 24 | 4 | technician |\n",
       "| 2 | 24 | 3 | technician |\n",
       "| 3 | 24 | 4 | technician |\n",
       "| 4 | 24 | 4 | technician |\n",
       "| 5 | 24 | 4 | technician |\n",
       "| 6 | 24 | 5 | technician |\n",
       "\n"
      ],
      "text/plain": [
       "  age rate occupation\n",
       "1 24  4    technician\n",
       "2 24  3    technician\n",
       "3 24  4    technician\n",
       "4 24  4    technician\n",
       "5 24  4    technician\n",
       "6 24  5    technician"
      ]
     },
     "metadata": {},
     "output_type": "display_data"
    }
   ],
   "source": [
    "# Planteamiento para modelo k-vecinos\n",
    "# Se desea saber la ocupación de un usuario a partir de su edad y calificaciones\n",
    "\n",
    "# Se recuperarán únicamentélas columnas de edad, calificaciones y ocupación, ya que\n",
    "# el algoritmo de k-vecinos, en primera instancia, sólo trabaja con datos numéricos.\n",
    "info_p_KV <- info[, c(\"age\", \"rate\", \"occupation\")]\n",
    "head(info_p_KV)\n"
   ]
  },
  {
   "cell_type": "code",
   "execution_count": 25,
   "metadata": {
    "vscode": {
     "languageId": "r"
    }
   },
   "outputs": [],
   "source": [
    "info_p_KV <- unique(info_p_KV)\n"
   ]
  },
  {
   "cell_type": "code",
   "execution_count": 26,
   "metadata": {
    "vscode": {
     "languageId": "r"
    }
   },
   "outputs": [
    {
     "data": {
      "text/html": [
       "2067"
      ],
      "text/latex": [
       "2067"
      ],
      "text/markdown": [
       "2067"
      ],
      "text/plain": [
       "[1] 2067"
      ]
     },
     "metadata": {},
     "output_type": "display_data"
    }
   ],
   "source": [
    "nrow(info_p_KV)\n"
   ]
  },
  {
   "cell_type": "code",
   "execution_count": 27,
   "metadata": {
    "vscode": {
     "languageId": "r"
    }
   },
   "outputs": [
    {
     "data": {
      "image/png": "[encoded data removed]",
      "text/plain": [
       "plot without title"
      ]
     },
     "metadata": {
      "image/png": {
       "height": 420,
       "width": 420
      }
     },
     "output_type": "display_data"
    }
   ],
   "source": [
    "ggplot(info_p_KV, aes(x = age, y = rate, color = occupation)) +\n",
    "    geom_point() +\n",
    "    labs(title = \"Relación de edad y calificaciones para cada ocupación\", x = \"Edad\", y = \"Calificaciones\")\n"
   ]
  },
  {
   "cell_type": "markdown",
   "metadata": {},
   "source": [
    "Con ayuda de este gráfico se puede visualizar cómo las ocupaciones de distribuyen de manera similar en el eje vertical (indicando que, posiblemente, las calificaciones de un usuario están poco relacionadas con su ocupación), pero presentan una vasta heterogeneidad en el eje horizontal. Podemos ver cómo múltiples colores (ocupaciones) se aglomeran en ciertos rangos etarios, por lo que se espera que esta variable sea de gran injerencia al realizar una predicción."
   ]
  },
  {
   "cell_type": "code",
   "execution_count": 28,
   "metadata": {
    "vscode": {
     "languageId": "r"
    }
   },
   "outputs": [],
   "source": [
    "# Se declara la función para normalizar los datos, que permite deshacerse de diferencias\n",
    "# de magnitud entre los datos y nos permite graficarlos en un mismo plano.\n",
    "normalizar <-\n",
    "    function(x) {\n",
    "        (x - min(x)) / (max(x) - min(x))\n",
    "    }\n"
   ]
  },
  {
   "cell_type": "code",
   "execution_count": 29,
   "metadata": {
    "vscode": {
     "languageId": "r"
    }
   },
   "outputs": [
    {
     "data": {
      "text/html": [
       "<table class=\"dataframe\">\n",
       "<caption>A data.frame: 6 × 2</caption>\n",
       "<thead>\n",
       "\t<tr><th></th><th scope=col>age</th><th scope=col>rate</th></tr>\n",
       "\t<tr><th></th><th scope=col>&lt;dbl&gt;</th><th scope=col>&lt;dbl&gt;</th></tr>\n",
       "</thead>\n",
       "<tbody>\n",
       "\t<tr><th scope=row>1</th><td>0.2575758</td><td>0.75</td></tr>\n",
       "\t<tr><th scope=row>2</th><td>0.2575758</td><td>0.50</td></tr>\n",
       "\t<tr><th scope=row>3</th><td>0.2575758</td><td>1.00</td></tr>\n",
       "\t<tr><th scope=row>4</th><td>0.2575758</td><td>0.25</td></tr>\n",
       "\t<tr><th scope=row>5</th><td>0.2575758</td><td>0.00</td></tr>\n",
       "\t<tr><th scope=row>6</th><td>0.6969697</td><td>0.75</td></tr>\n",
       "</tbody>\n",
       "</table>\n"
      ],
      "text/latex": [
       "A data.frame: 6 × 2\n",
       "\\begin{tabular}{r|ll}\n",
       "  & age & rate\\\\\n",
       "  & <dbl> & <dbl>\\\\\n",
       "\\hline\n",
       "\t1 & 0.2575758 & 0.75\\\\\n",
       "\t2 & 0.2575758 & 0.50\\\\\n",
       "\t3 & 0.2575758 & 1.00\\\\\n",
       "\t4 & 0.2575758 & 0.25\\\\\n",
       "\t5 & 0.2575758 & 0.00\\\\\n",
       "\t6 & 0.6969697 & 0.75\\\\\n",
       "\\end{tabular}\n"
      ],
      "text/markdown": [
       "\n",
       "A data.frame: 6 × 2\n",
       "\n",
       "| <!--/--> | age &lt;dbl&gt; | rate &lt;dbl&gt; |\n",
       "|---|---|---|\n",
       "| 1 | 0.2575758 | 0.75 |\n",
       "| 2 | 0.2575758 | 0.50 |\n",
       "| 3 | 0.2575758 | 1.00 |\n",
       "| 4 | 0.2575758 | 0.25 |\n",
       "| 5 | 0.2575758 | 0.00 |\n",
       "| 6 | 0.6969697 | 0.75 |\n",
       "\n"
      ],
      "text/plain": [
       "  age       rate\n",
       "1 0.2575758 0.75\n",
       "2 0.2575758 0.50\n",
       "3 0.2575758 1.00\n",
       "4 0.2575758 0.25\n",
       "5 0.2575758 0.00\n",
       "6 0.6969697 0.75"
      ]
     },
     "metadata": {},
     "output_type": "display_data"
    }
   ],
   "source": [
    "info_p_KV_norm <- as.data.frame(lapply(info_p_KV[, c(\"age\", \"rate\")], normalizar))\n",
    "head(info_p_KV_norm)\n"
   ]
  },
  {
   "cell_type": "code",
   "execution_count": 30,
   "metadata": {
    "vscode": {
     "languageId": "r"
    }
   },
   "outputs": [],
   "source": [
    "# Separación de los datos en entrenamiento y prueba\n",
    "separador_KV <- sample(1:nrow(info_p_KV_norm), 0.8 * nrow(info_p_KV_norm))\n",
    "info_entrenamiento_KV <- info_p_KV_norm[separador_KV, ]\n",
    "info_prueba_KV <- info_p_KV_norm[-separador_KV, ]\n"
   ]
  },
  {
   "cell_type": "code",
   "execution_count": 31,
   "metadata": {
    "vscode": {
     "languageId": "r"
    }
   },
   "outputs": [],
   "source": [
    "# Se crea el modelo de k-vecinos\n",
    "predicciones <- knn(info_entrenamiento_KV, # Datos de entrenamiento\n",
    "    info_prueba_KV, # Datos de prueba\n",
    "    info_p_KV[separador_KV, 3], # Etiquetas bajo las cuales se clasificarán los datos de entrenamiento\n",
    "    k = 7\n",
    ") # Número de vecinos\n"
   ]
  },
  {
   "cell_type": "code",
   "execution_count": 32,
   "metadata": {
    "vscode": {
     "languageId": "r"
    }
   },
   "outputs": [
    {
     "data": {
      "text/plain": [
       "               \n",
       "predicciones    administrator artist doctor educator engineer entertainment\n",
       "  administrator             0      3      0        1        3             0\n",
       "  artist                    2      0      1        1        0             0\n",
       "  doctor                    0      0      0        0        1             0\n",
       "  educator                  3      4      0        0        7             2\n",
       "  engineer                  4      2      0        3        1             1\n",
       "  entertainment             0      0      0        0        0             0\n",
       "  executive                 4      0      0        4        0             1\n",
       "  healthcare                0      0      0        0        0             0\n",
       "  homemaker                 0      0      0        0        0             1\n",
       "  lawyer                    2      0      1        0        2             1\n",
       "  librarian                 2      2      0        3        2             1\n",
       "  marketing                 1      1      0        0        1             2\n",
       "  none                      0      0      0        0        0             0\n",
       "  other                     4      1      0        5        3             1\n",
       "  programmer                3      0      0        2        3             1\n",
       "  retired                   0      0      1        0        0             0\n",
       "  salesman                  0      0      0        0        1             0\n",
       "  scientist                 1      2      0        2        2             2\n",
       "  student                   1      5      2        1        1             3\n",
       "  technician                1      0      0        0        1             1\n",
       "  writer                    1      0      1        3        3             0\n",
       "               \n",
       "predicciones    executive healthcare homemaker lawyer librarian marketing none\n",
       "  administrator         5          2         0      1         0         1    1\n",
       "  artist                1          0         0      0         0         1    0\n",
       "  doctor                1          0         1      0         0         0    0\n",
       "  educator              2          4         2      0         9         1    1\n",
       "  engineer              1          2         1      0         3         3    0\n",
       "  entertainment         0          0         0      0         2         1    0\n",
       "  executive             0          3         0      1         4         1    2\n",
       "  healthcare            0          0         0      0         0         0    0\n",
       "  homemaker             0          0         0      0         0         0    0\n",
       "  lawyer                0          0         1      0         1         2    1\n",
       "  librarian             1          0         2      1         0         0    1\n",
       "  marketing             0          1         0      2         0         0    0\n",
       "  none                  0          0         0      0         1         0    0\n",
       "  other                 1          0         0      2         2         1    0\n",
       "  programmer            1          0         0      0         1         1    1\n",
       "  retired               2          0         0      0         0         0    0\n",
       "  salesman              0          0         0      0         0         0    0\n",
       "  scientist             2          1         0      0         1         1    1\n",
       "  student               1          1         2      2         0         1    2\n",
       "  technician            0          2         0      2         1         0    0\n",
       "  writer                1          2         1      1         0         0    0\n",
       "               \n",
       "predicciones    other programmer retired salesman scientist student technician\n",
       "  administrator     2          3       0        1         0       2          2\n",
       "  artist            1          1       0        0         2       0          1\n",
       "  doctor            0          0       1        0         0       0          0\n",
       "  educator          6          9       1        1         1       0          1\n",
       "  engineer          3          1       1        1         1       1          2\n",
       "  entertainment     1          1       0        0         1       0          0\n",
       "  executive         1          1       1        0         4       1          1\n",
       "  healthcare        2          0       0        0         0       0          0\n",
       "  homemaker         0          0       0        0         1       0          0\n",
       "  lawyer            2          0       0        2         0       0          0\n",
       "  librarian         6          1       0        0         4       0          3\n",
       "  marketing         1          0       0        1         0       2          1\n",
       "  none              1          0       0        1         0       1          1\n",
       "  other             0          4       2        2         5       1          2\n",
       "  programmer        5          0       0        1         3       3          1\n",
       "  retired           0          0       0        0         0       0          0\n",
       "  salesman          0          1       0        0         0       1          0\n",
       "  scientist         2          1       0        0         1       2          1\n",
       "  student           5          3       0        3         0       3          1\n",
       "  technician        0          0       0        0         0       2          0\n",
       "  writer            5          0       0        0         0       2          1\n",
       "               \n",
       "predicciones    writer\n",
       "  administrator      4\n",
       "  artist             1\n",
       "  doctor             0\n",
       "  educator           4\n",
       "  engineer           3\n",
       "  entertainment      0\n",
       "  executive          1\n",
       "  healthcare         2\n",
       "  homemaker          0\n",
       "  lawyer             1\n",
       "  librarian          0\n",
       "  marketing          1\n",
       "  none               0\n",
       "  other              4\n",
       "  programmer         3\n",
       "  retired            0\n",
       "  salesman           0\n",
       "  scientist          0\n",
       "  student            4\n",
       "  technician         0\n",
       "  writer             0"
      ]
     },
     "metadata": {},
     "output_type": "display_data"
    }
   ],
   "source": [
    "# Se crea una matriz de confusión para ver la precisión del algoritmo\n",
    "tab <- table(predicciones, info_p_KV[-separador_KV, 3])\n",
    "tab\n"
   ]
  },
  {
   "cell_type": "code",
   "execution_count": 33,
   "metadata": {
    "vscode": {
     "languageId": "r"
    }
   },
   "outputs": [
    {
     "data": {
      "text/html": [
       "1.20772946859903"
      ],
      "text/latex": [
       "1.20772946859903"
      ],
      "text/markdown": [
       "1.20772946859903"
      ],
      "text/plain": [
       "[1] 1.207729"
      ]
     },
     "metadata": {},
     "output_type": "display_data"
    }
   ],
   "source": [
    "# En esta función se divide el número de predicciones correctas entre el número total de predicciones, lo que nos dice\n",
    "# qué tan preciso es el modelo.\n",
    "precision(tab)\n"
   ]
  },
  {
   "cell_type": "markdown",
   "metadata": {},
   "source": [
    "Nuevamente, la diversidad de la información (y posiblemente la falta de esta) empobrecen el rendimiento de nuestro modelo, pues al igual que otras variables de clasificación (a excepción del género de la película), dicen poco de cómo un usuario se comporta al calificar.\n",
    "\n",
    "Finalmente, sería importante revisar la vigencia de estos datos, y/o enriquecer los planteamientos con más detalles, pues a partir de pocas variables es difícil ser certero en las predicciones."
   ]
  }
 ],
 "metadata": {
  "kernelspec": {
   "display_name": "R",
   "language": "R",
   "name": "ir"
  },
  "language_info": {
   "codemirror_mode": "r",
   "file_extension": ".r",
   "mimetype": "text/x-r-source",
   "name": "R",
   "pygments_lexer": "r",
   "version": "4.2.2"
  },
  "orig_nbformat": 4,
  "vscode": {
   "interpreter": {
    "hash": "26de051ba29f2982a8de78e945f0abaf191376122a1563185a90213a26c5da77"
   }
  }
 },
 "nbformat": 4,
 "nbformat_minor": 2
}
