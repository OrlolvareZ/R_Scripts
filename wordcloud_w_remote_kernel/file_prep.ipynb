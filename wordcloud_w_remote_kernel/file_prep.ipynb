{
 "cells": [
  {
   "cell_type": "markdown",
   "metadata": {},
   "source": [
    "# File prep for Hadoop wordcount\n",
    "\n",
    "This notebook is used to prepare the data that will be given to the Hadoop wordcount program. The input will be a text file that contains the names of rated movies, which will also be given as JSON, a CSV-like file (taken from MySQL with Sqoop) and Flume tweets."
   ]
  },
  {
   "cell_type": "code",
   "execution_count": 4,
   "metadata": {
    "vscode": {
     "languageId": "r"
    }
   },
   "outputs": [
    {
     "data": {
      "text/html": [
       "'/u02/anaconda3/lib/R/library'"
      ],
      "text/latex": [
       "'/u02/anaconda3/lib/R/library'"
      ],
      "text/markdown": [
       "'/u02/anaconda3/lib/R/library'"
      ],
      "text/plain": [
       "[1] \"/u02/anaconda3/lib/R/library\""
      ]
     },
     "metadata": {},
     "output_type": "display_data"
    }
   ],
   "source": [
    ".libPaths()"
   ]
  },
  {
   "cell_type": "code",
   "execution_count": 6,
   "metadata": {
    "vscode": {
     "languageId": "r"
    }
   },
   "outputs": [
    {
     "name": "stderr",
     "output_type": "stream",
     "text": [
      "\n",
      "Attaching package: ‘dplyr’\n",
      "\n",
      "\n",
      "The following objects are masked from ‘package:stats’:\n",
      "\n",
      "    filter, lag\n",
      "\n",
      "\n",
      "The following objects are masked from ‘package:base’:\n",
      "\n",
      "    intersect, setdiff, setequal, union\n",
      "\n",
      "\n"
     ]
    }
   ],
   "source": [
    "# Load libraries\n",
    "library('rjson')\n",
    "library('dplyr')\n",
    "library('readr')"
   ]
  },
  {
   "cell_type": "markdown",
   "metadata": {},
   "source": [
    "First of all, create the text file with the names of the movies.\n",
    "For this, we take the movie name column from the movie ratings file and write them in a file line by line, so that the movie name appears several times (according to the many times it was rated) and wordcount produces a more interesting output"
   ]
  },
  {
   "cell_type": "code",
   "execution_count": 8,
   "metadata": {
    "vscode": {
     "languageId": "r"
    }
   },
   "outputs": [
    {
     "data": {
      "text/html": [
       "<table class=\"dataframe\">\n",
       "<caption>A data.frame: 6 × 27</caption>\n",
       "<thead>\n",
       "\t<tr><th></th><th scope=col>itemid</th><th scope=col>title</th><th scope=col>rdate</th><th scope=col>vrdate</th><th scope=col>IMDbURL</th><th scope=col>unknown</th><th scope=col>Action</th><th scope=col>Adventure</th><th scope=col>Animation</th><th scope=col>Children</th><th scope=col>⋯</th><th scope=col>Musical</th><th scope=col>Mystery</th><th scope=col>Romance</th><th scope=col>SciFi</th><th scope=col>Thriller</th><th scope=col>War</th><th scope=col>Western</th><th scope=col>userid</th><th scope=col>rate</th><th scope=col>timestamp</th></tr>\n",
       "\t<tr><th></th><th scope=col>&lt;int&gt;</th><th scope=col>&lt;chr&gt;</th><th scope=col>&lt;chr&gt;</th><th scope=col>&lt;lgl&gt;</th><th scope=col>&lt;chr&gt;</th><th scope=col>&lt;int&gt;</th><th scope=col>&lt;int&gt;</th><th scope=col>&lt;int&gt;</th><th scope=col>&lt;int&gt;</th><th scope=col>&lt;int&gt;</th><th scope=col>⋯</th><th scope=col>&lt;int&gt;</th><th scope=col>&lt;int&gt;</th><th scope=col>&lt;int&gt;</th><th scope=col>&lt;int&gt;</th><th scope=col>&lt;int&gt;</th><th scope=col>&lt;int&gt;</th><th scope=col>&lt;int&gt;</th><th scope=col>&lt;int&gt;</th><th scope=col>&lt;int&gt;</th><th scope=col>&lt;dbl&gt;</th></tr>\n",
       "</thead>\n",
       "<tbody>\n",
       "\t<tr><th scope=row>1</th><td>1</td><td>Toy Story (1995)</td><td>01-Jan-1995</td><td>NA</td><td>http://us.imdb.com/M/title-exact?Toy%20Story%20(1995)</td><td>0</td><td>0</td><td>0</td><td>1</td><td>1</td><td>⋯</td><td>0</td><td>0</td><td>0</td><td>0</td><td>0</td><td>0</td><td>0</td><td>308</td><td>4</td><td>887736532</td></tr>\n",
       "\t<tr><th scope=row>2</th><td>1</td><td>Toy Story (1995)</td><td>01-Jan-1995</td><td>NA</td><td>http://us.imdb.com/M/title-exact?Toy%20Story%20(1995)</td><td>0</td><td>0</td><td>0</td><td>1</td><td>1</td><td>⋯</td><td>0</td><td>0</td><td>0</td><td>0</td><td>0</td><td>0</td><td>0</td><td>287</td><td>5</td><td>875334088</td></tr>\n",
       "\t<tr><th scope=row>3</th><td>1</td><td>Toy Story (1995)</td><td>01-Jan-1995</td><td>NA</td><td>http://us.imdb.com/M/title-exact?Toy%20Story%20(1995)</td><td>0</td><td>0</td><td>0</td><td>1</td><td>1</td><td>⋯</td><td>0</td><td>0</td><td>0</td><td>0</td><td>0</td><td>0</td><td>0</td><td>148</td><td>4</td><td>877019411</td></tr>\n",
       "\t<tr><th scope=row>4</th><td>1</td><td>Toy Story (1995)</td><td>01-Jan-1995</td><td>NA</td><td>http://us.imdb.com/M/title-exact?Toy%20Story%20(1995)</td><td>0</td><td>0</td><td>0</td><td>1</td><td>1</td><td>⋯</td><td>0</td><td>0</td><td>0</td><td>0</td><td>0</td><td>0</td><td>0</td><td>280</td><td>4</td><td>891700426</td></tr>\n",
       "\t<tr><th scope=row>5</th><td>1</td><td>Toy Story (1995)</td><td>01-Jan-1995</td><td>NA</td><td>http://us.imdb.com/M/title-exact?Toy%20Story%20(1995)</td><td>0</td><td>0</td><td>0</td><td>1</td><td>1</td><td>⋯</td><td>0</td><td>0</td><td>0</td><td>0</td><td>0</td><td>0</td><td>0</td><td> 66</td><td>3</td><td>883601324</td></tr>\n",
       "\t<tr><th scope=row>6</th><td>1</td><td>Toy Story (1995)</td><td>01-Jan-1995</td><td>NA</td><td>http://us.imdb.com/M/title-exact?Toy%20Story%20(1995)</td><td>0</td><td>0</td><td>0</td><td>1</td><td>1</td><td>⋯</td><td>0</td><td>0</td><td>0</td><td>0</td><td>0</td><td>0</td><td>0</td><td>  5</td><td>4</td><td>875635748</td></tr>\n",
       "</tbody>\n",
       "</table>\n"
      ],
      "text/latex": [
       "A data.frame: 6 × 27\n",
       "\\begin{tabular}{r|lllllllllllllllllllll}\n",
       "  & itemid & title & rdate & vrdate & IMDbURL & unknown & Action & Adventure & Animation & Children & ⋯ & Musical & Mystery & Romance & SciFi & Thriller & War & Western & userid & rate & timestamp\\\\\n",
       "  & <int> & <chr> & <chr> & <lgl> & <chr> & <int> & <int> & <int> & <int> & <int> & ⋯ & <int> & <int> & <int> & <int> & <int> & <int> & <int> & <int> & <int> & <dbl>\\\\\n",
       "\\hline\n",
       "\t1 & 1 & Toy Story (1995) & 01-Jan-1995 & NA & http://us.imdb.com/M/title-exact?Toy\\%20Story\\%20(1995) & 0 & 0 & 0 & 1 & 1 & ⋯ & 0 & 0 & 0 & 0 & 0 & 0 & 0 & 308 & 4 & 887736532\\\\\n",
       "\t2 & 1 & Toy Story (1995) & 01-Jan-1995 & NA & http://us.imdb.com/M/title-exact?Toy\\%20Story\\%20(1995) & 0 & 0 & 0 & 1 & 1 & ⋯ & 0 & 0 & 0 & 0 & 0 & 0 & 0 & 287 & 5 & 875334088\\\\\n",
       "\t3 & 1 & Toy Story (1995) & 01-Jan-1995 & NA & http://us.imdb.com/M/title-exact?Toy\\%20Story\\%20(1995) & 0 & 0 & 0 & 1 & 1 & ⋯ & 0 & 0 & 0 & 0 & 0 & 0 & 0 & 148 & 4 & 877019411\\\\\n",
       "\t4 & 1 & Toy Story (1995) & 01-Jan-1995 & NA & http://us.imdb.com/M/title-exact?Toy\\%20Story\\%20(1995) & 0 & 0 & 0 & 1 & 1 & ⋯ & 0 & 0 & 0 & 0 & 0 & 0 & 0 & 280 & 4 & 891700426\\\\\n",
       "\t5 & 1 & Toy Story (1995) & 01-Jan-1995 & NA & http://us.imdb.com/M/title-exact?Toy\\%20Story\\%20(1995) & 0 & 0 & 0 & 1 & 1 & ⋯ & 0 & 0 & 0 & 0 & 0 & 0 & 0 &  66 & 3 & 883601324\\\\\n",
       "\t6 & 1 & Toy Story (1995) & 01-Jan-1995 & NA & http://us.imdb.com/M/title-exact?Toy\\%20Story\\%20(1995) & 0 & 0 & 0 & 1 & 1 & ⋯ & 0 & 0 & 0 & 0 & 0 & 0 & 0 &   5 & 4 & 875635748\\\\\n",
       "\\end{tabular}\n"
      ],
      "text/markdown": [
       "\n",
       "A data.frame: 6 × 27\n",
       "\n",
       "| <!--/--> | itemid &lt;int&gt; | title &lt;chr&gt; | rdate &lt;chr&gt; | vrdate &lt;lgl&gt; | IMDbURL &lt;chr&gt; | unknown &lt;int&gt; | Action &lt;int&gt; | Adventure &lt;int&gt; | Animation &lt;int&gt; | Children &lt;int&gt; | ⋯ ⋯ | Musical &lt;int&gt; | Mystery &lt;int&gt; | Romance &lt;int&gt; | SciFi &lt;int&gt; | Thriller &lt;int&gt; | War &lt;int&gt; | Western &lt;int&gt; | userid &lt;int&gt; | rate &lt;int&gt; | timestamp &lt;dbl&gt; |\n",
       "|---|---|---|---|---|---|---|---|---|---|---|---|---|---|---|---|---|---|---|---|---|---|\n",
       "| 1 | 1 | Toy Story (1995) | 01-Jan-1995 | NA | http://us.imdb.com/M/title-exact?Toy%20Story%20(1995) | 0 | 0 | 0 | 1 | 1 | ⋯ | 0 | 0 | 0 | 0 | 0 | 0 | 0 | 308 | 4 | 887736532 |\n",
       "| 2 | 1 | Toy Story (1995) | 01-Jan-1995 | NA | http://us.imdb.com/M/title-exact?Toy%20Story%20(1995) | 0 | 0 | 0 | 1 | 1 | ⋯ | 0 | 0 | 0 | 0 | 0 | 0 | 0 | 287 | 5 | 875334088 |\n",
       "| 3 | 1 | Toy Story (1995) | 01-Jan-1995 | NA | http://us.imdb.com/M/title-exact?Toy%20Story%20(1995) | 0 | 0 | 0 | 1 | 1 | ⋯ | 0 | 0 | 0 | 0 | 0 | 0 | 0 | 148 | 4 | 877019411 |\n",
       "| 4 | 1 | Toy Story (1995) | 01-Jan-1995 | NA | http://us.imdb.com/M/title-exact?Toy%20Story%20(1995) | 0 | 0 | 0 | 1 | 1 | ⋯ | 0 | 0 | 0 | 0 | 0 | 0 | 0 | 280 | 4 | 891700426 |\n",
       "| 5 | 1 | Toy Story (1995) | 01-Jan-1995 | NA | http://us.imdb.com/M/title-exact?Toy%20Story%20(1995) | 0 | 0 | 0 | 1 | 1 | ⋯ | 0 | 0 | 0 | 0 | 0 | 0 | 0 |  66 | 3 | 883601324 |\n",
       "| 6 | 1 | Toy Story (1995) | 01-Jan-1995 | NA | http://us.imdb.com/M/title-exact?Toy%20Story%20(1995) | 0 | 0 | 0 | 1 | 1 | ⋯ | 0 | 0 | 0 | 0 | 0 | 0 | 0 |   5 | 4 | 875635748 |\n",
       "\n"
      ],
      "text/plain": [
       "  itemid title            rdate       vrdate\n",
       "1 1      Toy Story (1995) 01-Jan-1995 NA    \n",
       "2 1      Toy Story (1995) 01-Jan-1995 NA    \n",
       "3 1      Toy Story (1995) 01-Jan-1995 NA    \n",
       "4 1      Toy Story (1995) 01-Jan-1995 NA    \n",
       "5 1      Toy Story (1995) 01-Jan-1995 NA    \n",
       "6 1      Toy Story (1995) 01-Jan-1995 NA    \n",
       "  IMDbURL                                               unknown Action\n",
       "1 http://us.imdb.com/M/title-exact?Toy%20Story%20(1995) 0       0     \n",
       "2 http://us.imdb.com/M/title-exact?Toy%20Story%20(1995) 0       0     \n",
       "3 http://us.imdb.com/M/title-exact?Toy%20Story%20(1995) 0       0     \n",
       "4 http://us.imdb.com/M/title-exact?Toy%20Story%20(1995) 0       0     \n",
       "5 http://us.imdb.com/M/title-exact?Toy%20Story%20(1995) 0       0     \n",
       "6 http://us.imdb.com/M/title-exact?Toy%20Story%20(1995) 0       0     \n",
       "  Adventure Animation Children ⋯ Musical Mystery Romance SciFi Thriller War\n",
       "1 0         1         1        ⋯ 0       0       0       0     0        0  \n",
       "2 0         1         1        ⋯ 0       0       0       0     0        0  \n",
       "3 0         1         1        ⋯ 0       0       0       0     0        0  \n",
       "4 0         1         1        ⋯ 0       0       0       0     0        0  \n",
       "5 0         1         1        ⋯ 0       0       0       0     0        0  \n",
       "6 0         1         1        ⋯ 0       0       0       0     0        0  \n",
       "  Western userid rate timestamp\n",
       "1 0       308    4    887736532\n",
       "2 0       287    5    875334088\n",
       "3 0       148    4    877019411\n",
       "4 0       280    4    891700426\n",
       "5 0        66    3    883601324\n",
       "6 0         5    4    875635748"
      ]
     },
     "metadata": {},
     "output_type": "display_data"
    }
   ],
   "source": [
    "# Read the files to a data frame and join them\n",
    "movies <- read.table(\"/u02/files/ArchivosPeliculas/u.item\", header = TRUE, sep = \"|\")\n",
    "rates <- read.table(\"/u02/files/ArchivosPeliculas/udata.data\", header = TRUE, sep = \"\\t\")\n",
    "movies_df <- left_join(movies, rates, by = \"itemid\")\n",
    "head(movies_df)"
   ]
  },
  {
   "cell_type": "code",
   "execution_count": 9,
   "metadata": {
    "vscode": {
     "languageId": "r"
    }
   },
   "outputs": [],
   "source": [
    "# Extract the column with the name\n",
    "movies_names <- movies_df$title\n",
    "\n",
    "# Write the names to a file line by line\n",
    "write_lines(movies_names, \"/u02/files/ArchivosPeliculas/movies_names.txt\")"
   ]
  },
  {
   "cell_type": "code",
   "execution_count": 33,
   "metadata": {
    "vscode": {
     "languageId": "r"
    }
   },
   "outputs": [],
   "source": [
    "# Using the rjson package, from the movies' names column, create a json file with the next format:\n",
    "# { \"names_list\" : [ ...\n",
    "\t\t# \"Star Wars\", \"James Bond\" ,\n",
    "# ... ] }\n",
    "\n",
    "# Create a list with the names\n",
    "names_list <- list(\"names_list\" = movies_names)\n",
    "\n",
    "# Convert the list to json\n",
    "names_json <- toJSON(names_list)\n",
    "\n",
    "# Write the json to a file\n",
    "write_lines(names_json, \"/u02/files/ArchivosPeliculas/movies_names.json\")"
   ]
  },
  {
   "cell_type": "markdown",
   "metadata": {},
   "source": [
    "The imported files from MySQL follow a CSV like format, so it would also be suitable to transform the data to that format so that Sqoop has success when inserting it"
   ]
  },
  {
   "cell_type": "code",
   "execution_count": 16,
   "metadata": {
    "vscode": {
     "languageId": "r"
    }
   },
   "outputs": [],
   "source": [
    "# Write the movie names column to a csv file, with the next format:\n",
    "# 1, Star Wars\n",
    "# 2, James Bond\n",
    "# ...\n",
    "\n",
    "# Add the number of the movie to the names, which will follow from 1 to the number of movies\n",
    "indexed_movies_names <- paste0(1:length(movies_names), \", \", movies_names)\n",
    "\n",
    "# Write the names to a csv file\n",
    "write_lines(indexed_movies_names, \"/u02/files/ArchivosPeliculas/movies_names.csv\")"
   ]
  },
  {
   "cell_type": "code",
   "execution_count": 35,
   "metadata": {
    "vscode": {
     "languageId": "r"
    }
   },
   "outputs": [
    {
     "name": "stdout",
     "output_type": "stream",
     "text": [
      "[1] \"Toy Story (1995)\" \"Toy Story (1995)\" \"Toy Story (1995)\" \"Toy Story (1995)\"\n",
      "[5] \"Toy Story (1995)\"\n",
      "[1] \"Toy Story (1995)\" \"Toy Story (1995)\" \"Toy Story (1995)\" \"Toy Story (1995)\"\n",
      "[5] \"Toy Story (1995)\"\n",
      "[1] \"1, Toy Story (1995)\" \"2, Toy Story (1995)\" \"3, Toy Story (1995)\"\n",
      "[4] \"4, Toy Story (1995)\" \"5, Toy Story (1995)\"\n"
     ]
    }
   ],
   "source": [
    "# Check that all of the files were created as expected\n",
    "\n",
    "# Read each file, but only the first lines\n",
    "movies_text_file <- readLines(\"/u02/files/ArchivosPeliculas/movies_names.txt\", n = 5)\n",
    "movies_json_file <- fromJSON(file = \"/u02/files/ArchivosPeliculas/movies_names.json\") # This one is a single line\n",
    "movies_csv_file <- readLines(\"/u02/files/ArchivosPeliculas/movies_names.csv\", n = 5)\n",
    "\n",
    "# Print them all\n",
    "print(movies_text_file)\n",
    "print(movies_json_file$names_list[1:5]) # Only print a couple of lines of the json file\n",
    "print(movies_csv_file)"
   ]
  },
  {
   "cell_type": "code",
   "execution_count": null,
   "metadata": {
    "vscode": {
     "languageId": "r"
    }
   },
   "outputs": [],
   "source": []
  }
 ],
 "metadata": {
  "kernelspec": {
   "display_name": "R",
   "language": "R",
   "name": "r"
  },
  "language_info": {
   "codemirror_mode": "r",
   "file_extension": ".r",
   "mimetype": "text/x-r-source",
   "name": "R",
   "pygments_lexer": "r",
   "version": "4.2.0"
  },
  "orig_nbformat": 4
 },
 "nbformat": 4,
 "nbformat_minor": 2
}
