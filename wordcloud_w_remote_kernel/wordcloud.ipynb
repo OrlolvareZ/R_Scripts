{
 "cells": [
  {
   "cell_type": "markdown",
   "metadata": {},
   "source": [
    "# Wordcloud using Hadoop's     \n",
    "\n",
    "This notebook uses R and Hadoop's installation in an Oracle Linux 7.9 VM to create a wordcloud from the MapReduce output of the WordCount example routine.\n",
    "\n",
    "The output is the word count from 4 files:\n",
    "\n",
    "* A text file with a series of movie names\n",
    "* A JSON file that has the same content, but in JSON format\n",
    "* A Sqoop export of the movie names table from the MySQL database\n",
    "* A Flume set of tweets from the Twitter API"
   ]
  },
  {
   "cell_type": "code",
   "execution_count": null,
   "metadata": {
    "vscode": {
     "languageId": "r"
    }
   },
   "outputs": [],
   "source": [
    ".libPaths()"
   ]
  },
  {
   "cell_type": "code",
   "execution_count": null,
   "metadata": {
    "vscode": {
     "languageId": "r"
    }
   },
   "outputs": [],
   "source": [
    "# Load the wordcloud package\n",
    "library('wordcloud')"
   ]
  },
  {
   "cell_type": "code",
   "execution_count": null,
   "metadata": {
    "vscode": {
     "languageId": "r"
    }
   },
   "outputs": [],
   "source": [
    "# Read the data from Hadoop\n",
    "data <- system(\"hdfs dfs -cat <output_dir>\", intern=TRUE)"
   ]
  },
  {
   "cell_type": "code",
   "execution_count": null,
   "metadata": {
    "vscode": {
     "languageId": "r"
    }
   },
   "outputs": [],
   "source": [
    "# Plot the wordcloud\n",
    "wordcloud(data, min.freq = 1, max.words=100, random.order = FALSE, colors = brewer.pal(8, \"Dark2\"))"
   ]
  }
 ],
 "metadata": {
  "kernelspec": {
   "display_name": "R",
   "language": "R",
   "name": "ir"
  },
  "language_info": {
   "codemirror_mode": "r",
   "file_extension": ".r",
   "mimetype": "text/x-r-source",
   "name": "R",
   "pygments_lexer": "r",
   "version": "4.2.0"
  },
  "orig_nbformat": 4,
  "vscode": {
   "interpreter": {
    "hash": "26de051ba29f2982a8de78e945f0abaf191376122a1563185a90213a26c5da77"
   }
  }
 },
 "nbformat": 4,
 "nbformat_minor": 2
}
