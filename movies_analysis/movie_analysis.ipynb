{
 "cells": [
  {
   "cell_type": "markdown",
   "metadata": {},
   "source": [
    "### Análisis de películas:\n",
    "\n",
    "Trabajando en equipo, determinar:\n",
    "\n",
    "* ¿Cuál es el nombre de la película más popular? Obtener el top 10\n",
    "* ¿Cuantas películas vieron los H y M?\n",
    "* ¿Donde se ven las top 10 películas más populares?\n",
    "\n",
    "Use el barplot para gráficas cada punto."
   ]
  },
  {
   "cell_type": "markdown",
   "metadata": {},
   "source": [
    "Criterio de popularidad definido:\n",
    "\n",
    "Una película popular es aquella que tiene una gran cantidad de calificaciones favorables y está calificada por usuarios de diversas regiones, i.e.\n",
    "\n",
    "* +calificaciones buenas\n",
    "* +códigos postales"
   ]
  },
  {
   "cell_type": "code",
   "execution_count": 1,
   "metadata": {
    "vscode": {
     "languageId": "r"
    }
   },
   "outputs": [
    {
     "name": "stderr",
     "output_type": "stream",
     "text": [
      "\n",
      "Attaching package: 'dplyr'\n",
      "\n",
      "\n",
      "The following objects are masked from 'package:stats':\n",
      "\n",
      "    filter, lag\n",
      "\n",
      "\n",
      "The following objects are masked from 'package:base':\n",
      "\n",
      "    intersect, setdiff, setequal, union\n",
      "\n",
      "\n"
     ]
    }
   ],
   "source": [
    "# Se cargan las librerías\n",
    "\n",
    "library(\"dplyr\")\n",
    "library(\"readr\")"
   ]
  },
  {
   "cell_type": "code",
   "execution_count": 2,
   "metadata": {
    "vscode": {
     "languageId": "r"
    }
   },
   "outputs": [],
   "source": [
    "# Lee la información de los archivos\n",
    "usuarios <- read.table(\"./movies_data/u.user\", header = TRUE, sep = \"|\")\n",
    "peliculas <- read.table(\"./movies_data/u.item\", header = TRUE, sep = \"|\")\n",
    "calificaciones <- read.table(\"./movies_data/udata.data\", header = TRUE, sep = \"\\t\")"
   ]
  },
  {
   "cell_type": "code",
   "execution_count": 3,
   "metadata": {
    "vscode": {
     "languageId": "r"
    }
   },
   "outputs": [],
   "source": [
    "# Unir las tablas\n",
    "datos <- left_join(calificaciones, usuarios, by = c(\"userid\"=\"userid\"))\n",
    "datos <- left_join(datos, peliculas, by = c(\"itemid\"=\"itemid\"))"
   ]
  },
  {
   "cell_type": "code",
   "execution_count": 4,
   "metadata": {
    "vscode": {
     "languageId": "r"
    }
   },
   "outputs": [
    {
     "data": {
      "text/html": [
       "<table class=\"dataframe\">\n",
       "<caption>A data.frame: 3 × 31</caption>\n",
       "<thead>\n",
       "\t<tr><th></th><th scope=col>userid</th><th scope=col>itemid</th><th scope=col>rate</th><th scope=col>timestamp</th><th scope=col>age</th><th scope=col>gender</th><th scope=col>occupation</th><th scope=col>zcode</th><th scope=col>title</th><th scope=col>rdate</th><th scope=col>⋯</th><th scope=col>Fantasy</th><th scope=col>FilmNoir</th><th scope=col>Horror</th><th scope=col>Musical</th><th scope=col>Mystery</th><th scope=col>Romance</th><th scope=col>SciFi</th><th scope=col>Thriller</th><th scope=col>War</th><th scope=col>Western</th></tr>\n",
       "\t<tr><th></th><th scope=col>&lt;int&gt;</th><th scope=col>&lt;int&gt;</th><th scope=col>&lt;int&gt;</th><th scope=col>&lt;dbl&gt;</th><th scope=col>&lt;int&gt;</th><th scope=col>&lt;chr&gt;</th><th scope=col>&lt;chr&gt;</th><th scope=col>&lt;chr&gt;</th><th scope=col>&lt;chr&gt;</th><th scope=col>&lt;chr&gt;</th><th scope=col>⋯</th><th scope=col>&lt;int&gt;</th><th scope=col>&lt;int&gt;</th><th scope=col>&lt;int&gt;</th><th scope=col>&lt;int&gt;</th><th scope=col>&lt;int&gt;</th><th scope=col>&lt;int&gt;</th><th scope=col>&lt;int&gt;</th><th scope=col>&lt;int&gt;</th><th scope=col>&lt;int&gt;</th><th scope=col>&lt;int&gt;</th></tr>\n",
       "</thead>\n",
       "<tbody>\n",
       "\t<tr><th scope=row>1</th><td>196</td><td>242</td><td>3</td><td>881250949</td><td>49</td><td>M</td><td>writer   </td><td>55105</td><td>Kolya (1996)            </td><td>24-Jan-1997</td><td>⋯</td><td>0</td><td>0</td><td>0</td><td>0</td><td>0</td><td>0</td><td>0</td><td>0</td><td>0</td><td>0</td></tr>\n",
       "\t<tr><th scope=row>2</th><td>186</td><td>302</td><td>3</td><td>891717742</td><td>39</td><td>F</td><td>executive</td><td>00000</td><td>L.A. Confidential (1997)</td><td>01-Jan-1997</td><td>⋯</td><td>0</td><td>1</td><td>0</td><td>0</td><td>1</td><td>0</td><td>0</td><td>1</td><td>0</td><td>0</td></tr>\n",
       "\t<tr><th scope=row>3</th><td> 22</td><td>377</td><td>1</td><td>878887116</td><td>25</td><td>M</td><td>writer   </td><td>40206</td><td>Heavyweights (1994)     </td><td>01-Jan-1994</td><td>⋯</td><td>0</td><td>0</td><td>0</td><td>0</td><td>0</td><td>0</td><td>0</td><td>0</td><td>0</td><td>0</td></tr>\n",
       "</tbody>\n",
       "</table>\n"
      ],
      "text/latex": [
       "A data.frame: 3 × 31\n",
       "\\begin{tabular}{r|lllllllllllllllllllll}\n",
       "  & userid & itemid & rate & timestamp & age & gender & occupation & zcode & title & rdate & ⋯ & Fantasy & FilmNoir & Horror & Musical & Mystery & Romance & SciFi & Thriller & War & Western\\\\\n",
       "  & <int> & <int> & <int> & <dbl> & <int> & <chr> & <chr> & <chr> & <chr> & <chr> & ⋯ & <int> & <int> & <int> & <int> & <int> & <int> & <int> & <int> & <int> & <int>\\\\\n",
       "\\hline\n",
       "\t1 & 196 & 242 & 3 & 881250949 & 49 & M & writer    & 55105 & Kolya (1996)             & 24-Jan-1997 & ⋯ & 0 & 0 & 0 & 0 & 0 & 0 & 0 & 0 & 0 & 0\\\\\n",
       "\t2 & 186 & 302 & 3 & 891717742 & 39 & F & executive & 00000 & L.A. Confidential (1997) & 01-Jan-1997 & ⋯ & 0 & 1 & 0 & 0 & 1 & 0 & 0 & 1 & 0 & 0\\\\\n",
       "\t3 &  22 & 377 & 1 & 878887116 & 25 & M & writer    & 40206 & Heavyweights (1994)      & 01-Jan-1994 & ⋯ & 0 & 0 & 0 & 0 & 0 & 0 & 0 & 0 & 0 & 0\\\\\n",
       "\\end{tabular}\n"
      ],
      "text/markdown": [
       "\n",
       "A data.frame: 3 × 31\n",
       "\n",
       "| <!--/--> | userid &lt;int&gt; | itemid &lt;int&gt; | rate &lt;int&gt; | timestamp &lt;dbl&gt; | age &lt;int&gt; | gender &lt;chr&gt; | occupation &lt;chr&gt; | zcode &lt;chr&gt; | title &lt;chr&gt; | rdate &lt;chr&gt; | ⋯ ⋯ | Fantasy &lt;int&gt; | FilmNoir &lt;int&gt; | Horror &lt;int&gt; | Musical &lt;int&gt; | Mystery &lt;int&gt; | Romance &lt;int&gt; | SciFi &lt;int&gt; | Thriller &lt;int&gt; | War &lt;int&gt; | Western &lt;int&gt; |\n",
       "|---|---|---|---|---|---|---|---|---|---|---|---|---|---|---|---|---|---|---|---|---|---|\n",
       "| 1 | 196 | 242 | 3 | 881250949 | 49 | M | writer    | 55105 | Kolya (1996)             | 24-Jan-1997 | ⋯ | 0 | 0 | 0 | 0 | 0 | 0 | 0 | 0 | 0 | 0 |\n",
       "| 2 | 186 | 302 | 3 | 891717742 | 39 | F | executive | 00000 | L.A. Confidential (1997) | 01-Jan-1997 | ⋯ | 0 | 1 | 0 | 0 | 1 | 0 | 0 | 1 | 0 | 0 |\n",
       "| 3 |  22 | 377 | 1 | 878887116 | 25 | M | writer    | 40206 | Heavyweights (1994)      | 01-Jan-1994 | ⋯ | 0 | 0 | 0 | 0 | 0 | 0 | 0 | 0 | 0 | 0 |\n",
       "\n"
      ],
      "text/plain": [
       "  userid itemid rate timestamp age gender occupation zcode\n",
       "1 196    242    3    881250949 49  M      writer     55105\n",
       "2 186    302    3    891717742 39  F      executive  00000\n",
       "3  22    377    1    878887116 25  M      writer     40206\n",
       "  title                    rdate       ⋯ Fantasy FilmNoir Horror Musical\n",
       "1 Kolya (1996)             24-Jan-1997 ⋯ 0       0        0      0      \n",
       "2 L.A. Confidential (1997) 01-Jan-1997 ⋯ 0       1        0      0      \n",
       "3 Heavyweights (1994)      01-Jan-1994 ⋯ 0       0        0      0      \n",
       "  Mystery Romance SciFi Thriller War Western\n",
       "1 0       0       0     0        0   0      \n",
       "2 1       0       0     1        0   0      \n",
       "3 0       0       0     0        0   0      "
      ]
     },
     "metadata": {},
     "output_type": "display_data"
    }
   ],
   "source": [
    "datos[1:3, ]"
   ]
  },
  {
   "cell_type": "code",
   "execution_count": 5,
   "metadata": {
    "vscode": {
     "languageId": "r"
    }
   },
   "outputs": [
    {
     "data": {
      "text/html": [
       "<style>\n",
       ".list-inline {list-style: none; margin:0; padding: 0}\n",
       ".list-inline>li {display: inline-block}\n",
       ".list-inline>li:not(:last-child)::after {content: \"\\00b7\"; padding: 0 .5ex}\n",
       "</style>\n",
       "<ol class=list-inline><li>'userid'</li><li>'movieid'</li><li>'rate'</li><li>'timestamp'</li><li>'age'</li><li>'gender'</li><li>'occupation'</li><li>'zcode'</li><li>'title'</li><li>'rdate'</li><li>'vrdate'</li><li>'IMDbURL'</li><li>'unknown'</li><li>'Action'</li><li>'Adventure'</li><li>'Animation'</li><li>'Children'</li><li>'Comedy'</li><li>'Crime'</li><li>'Documentary'</li><li>'Drama'</li><li>'Fantasy'</li><li>'FilmNoir'</li><li>'Horror'</li><li>'Musical'</li><li>'Mystery'</li><li>'Romance'</li><li>'SciFi'</li><li>'Thriller'</li><li>'War'</li><li>'Western'</li></ol>\n"
      ],
      "text/latex": [
       "\\begin{enumerate*}\n",
       "\\item 'userid'\n",
       "\\item 'movieid'\n",
       "\\item 'rate'\n",
       "\\item 'timestamp'\n",
       "\\item 'age'\n",
       "\\item 'gender'\n",
       "\\item 'occupation'\n",
       "\\item 'zcode'\n",
       "\\item 'title'\n",
       "\\item 'rdate'\n",
       "\\item 'vrdate'\n",
       "\\item 'IMDbURL'\n",
       "\\item 'unknown'\n",
       "\\item 'Action'\n",
       "\\item 'Adventure'\n",
       "\\item 'Animation'\n",
       "\\item 'Children'\n",
       "\\item 'Comedy'\n",
       "\\item 'Crime'\n",
       "\\item 'Documentary'\n",
       "\\item 'Drama'\n",
       "\\item 'Fantasy'\n",
       "\\item 'FilmNoir'\n",
       "\\item 'Horror'\n",
       "\\item 'Musical'\n",
       "\\item 'Mystery'\n",
       "\\item 'Romance'\n",
       "\\item 'SciFi'\n",
       "\\item 'Thriller'\n",
       "\\item 'War'\n",
       "\\item 'Western'\n",
       "\\end{enumerate*}\n"
      ],
      "text/markdown": [
       "1. 'userid'\n",
       "2. 'movieid'\n",
       "3. 'rate'\n",
       "4. 'timestamp'\n",
       "5. 'age'\n",
       "6. 'gender'\n",
       "7. 'occupation'\n",
       "8. 'zcode'\n",
       "9. 'title'\n",
       "10. 'rdate'\n",
       "11. 'vrdate'\n",
       "12. 'IMDbURL'\n",
       "13. 'unknown'\n",
       "14. 'Action'\n",
       "15. 'Adventure'\n",
       "16. 'Animation'\n",
       "17. 'Children'\n",
       "18. 'Comedy'\n",
       "19. 'Crime'\n",
       "20. 'Documentary'\n",
       "21. 'Drama'\n",
       "22. 'Fantasy'\n",
       "23. 'FilmNoir'\n",
       "24. 'Horror'\n",
       "25. 'Musical'\n",
       "26. 'Mystery'\n",
       "27. 'Romance'\n",
       "28. 'SciFi'\n",
       "29. 'Thriller'\n",
       "30. 'War'\n",
       "31. 'Western'\n",
       "\n",
       "\n"
      ],
      "text/plain": [
       " [1] \"userid\"      \"movieid\"     \"rate\"        \"timestamp\"   \"age\"        \n",
       " [6] \"gender\"      \"occupation\"  \"zcode\"       \"title\"       \"rdate\"      \n",
       "[11] \"vrdate\"      \"IMDbURL\"     \"unknown\"     \"Action\"      \"Adventure\"  \n",
       "[16] \"Animation\"   \"Children\"    \"Comedy\"      \"Crime\"       \"Documentary\"\n",
       "[21] \"Drama\"       \"Fantasy\"     \"FilmNoir\"    \"Horror\"      \"Musical\"    \n",
       "[26] \"Mystery\"     \"Romance\"     \"SciFi\"       \"Thriller\"    \"War\"        \n",
       "[31] \"Western\"    "
      ]
     },
     "metadata": {},
     "output_type": "display_data"
    }
   ],
   "source": [
    "# Cambiamos los nombres de las columnas:\n",
    "datos <- datos %>% rename(movieid = itemid)\n",
    "colnames(datos)"
   ]
  },
  {
   "cell_type": "markdown",
   "metadata": {},
   "source": [
    "Para responder a la pregunta...\n",
    "\n",
    "* ¿Cuál es el nombre de la película más popular?\n",
    "\n",
    "... vamos a conocer primero las películas con más calificaciones. A partir de ahí, obtendremos aquellas mejor calificadas"
   ]
  },
  {
   "cell_type": "code",
   "execution_count": 6,
   "metadata": {
    "vscode": {
     "languageId": "r"
    }
   },
   "outputs": [
    {
     "data": {
      "text/html": [
       "<style>\n",
       ".list-inline {list-style: none; margin:0; padding: 0}\n",
       ".list-inline>li {display: inline-block}\n",
       ".list-inline>li:not(:last-child)::after {content: \"\\00b7\"; padding: 0 .5ex}\n",
       "</style>\n",
       "<ol class=list-inline><li>'tbl_df'</li><li>'tbl'</li><li>'data.frame'</li></ol>\n"
      ],
      "text/latex": [
       "\\begin{enumerate*}\n",
       "\\item 'tbl\\_df'\n",
       "\\item 'tbl'\n",
       "\\item 'data.frame'\n",
       "\\end{enumerate*}\n"
      ],
      "text/markdown": [
       "1. 'tbl_df'\n",
       "2. 'tbl'\n",
       "3. 'data.frame'\n",
       "\n",
       "\n"
      ],
      "text/plain": [
       "[1] \"tbl_df\"     \"tbl\"        \"data.frame\""
      ]
     },
     "metadata": {},
     "output_type": "display_data"
    }
   ],
   "source": [
    "# De la tabla de datos, obtén las películas con más calificaciones\n",
    "mas_calif <- datos %>% group_by(movieid) %>% summarise(n_calif = n())\n",
    "class(mas_calif)"
   ]
  },
  {
   "cell_type": "code",
   "execution_count": 7,
   "metadata": {
    "vscode": {
     "languageId": "r"
    }
   },
   "outputs": [
    {
     "data": {
      "text/html": [
       "<table class=\"dataframe\">\n",
       "<caption>A tibble: 3 × 2</caption>\n",
       "<thead>\n",
       "\t<tr><th scope=col>movieid</th><th scope=col>n_calif</th></tr>\n",
       "\t<tr><th scope=col>&lt;int&gt;</th><th scope=col>&lt;int&gt;</th></tr>\n",
       "</thead>\n",
       "<tbody>\n",
       "\t<tr><td>1</td><td>452</td></tr>\n",
       "\t<tr><td>2</td><td>131</td></tr>\n",
       "\t<tr><td>3</td><td> 90</td></tr>\n",
       "</tbody>\n",
       "</table>\n"
      ],
      "text/latex": [
       "A tibble: 3 × 2\n",
       "\\begin{tabular}{ll}\n",
       " movieid & n\\_calif\\\\\n",
       " <int> & <int>\\\\\n",
       "\\hline\n",
       "\t 1 & 452\\\\\n",
       "\t 2 & 131\\\\\n",
       "\t 3 &  90\\\\\n",
       "\\end{tabular}\n"
      ],
      "text/markdown": [
       "\n",
       "A tibble: 3 × 2\n",
       "\n",
       "| movieid &lt;int&gt; | n_calif &lt;int&gt; |\n",
       "|---|---|\n",
       "| 1 | 452 |\n",
       "| 2 | 131 |\n",
       "| 3 |  90 |\n",
       "\n"
      ],
      "text/plain": [
       "  movieid n_calif\n",
       "1 1       452    \n",
       "2 2       131    \n",
       "3 3        90    "
      ]
     },
     "metadata": {},
     "output_type": "display_data"
    },
    {
     "data": {
      "text/html": [
       "1682"
      ],
      "text/latex": [
       "1682"
      ],
      "text/markdown": [
       "1682"
      ],
      "text/plain": [
       "[1] 1682"
      ]
     },
     "metadata": {},
     "output_type": "display_data"
    }
   ],
   "source": [
    "mas_calif[1:3, ]\n",
    "length(mas_calif$movieid)"
   ]
  },
  {
   "cell_type": "code",
   "execution_count": 8,
   "metadata": {
    "vscode": {
     "languageId": "r"
    }
   },
   "outputs": [],
   "source": [
    "# A partir del id de la película, obtén un promedio de las calificaciones y ordénalo descendentemente\n",
    "califs_promedio <- datos %>% group_by(movieid) %>% summarise(calif_promedio = mean(rate)) %>% arrange(desc(calif_promedio))\n"
   ]
  },
  {
   "cell_type": "code",
   "execution_count": 9,
   "metadata": {
    "vscode": {
     "languageId": "r"
    }
   },
   "outputs": [
    {
     "data": {
      "text/html": [
       "<table class=\"dataframe\">\n",
       "<caption>A tibble: 3 × 3</caption>\n",
       "<thead>\n",
       "\t<tr><th scope=col>movieid</th><th scope=col>n_calif</th><th scope=col>calif_promedio</th></tr>\n",
       "\t<tr><th scope=col>&lt;int&gt;</th><th scope=col>&lt;int&gt;</th><th scope=col>&lt;dbl&gt;</th></tr>\n",
       "</thead>\n",
       "<tbody>\n",
       "\t<tr><td>1</td><td>452</td><td>3.878319</td></tr>\n",
       "\t<tr><td>2</td><td>131</td><td>3.206107</td></tr>\n",
       "\t<tr><td>3</td><td> 90</td><td>3.033333</td></tr>\n",
       "</tbody>\n",
       "</table>\n"
      ],
      "text/latex": [
       "A tibble: 3 × 3\n",
       "\\begin{tabular}{lll}\n",
       " movieid & n\\_calif & calif\\_promedio\\\\\n",
       " <int> & <int> & <dbl>\\\\\n",
       "\\hline\n",
       "\t 1 & 452 & 3.878319\\\\\n",
       "\t 2 & 131 & 3.206107\\\\\n",
       "\t 3 &  90 & 3.033333\\\\\n",
       "\\end{tabular}\n"
      ],
      "text/markdown": [
       "\n",
       "A tibble: 3 × 3\n",
       "\n",
       "| movieid &lt;int&gt; | n_calif &lt;int&gt; | calif_promedio &lt;dbl&gt; |\n",
       "|---|---|---|\n",
       "| 1 | 452 | 3.878319 |\n",
       "| 2 | 131 | 3.206107 |\n",
       "| 3 |  90 | 3.033333 |\n",
       "\n"
      ],
      "text/plain": [
       "  movieid n_calif calif_promedio\n",
       "1 1       452     3.878319      \n",
       "2 2       131     3.206107      \n",
       "3 3        90     3.033333      "
      ]
     },
     "metadata": {},
     "output_type": "display_data"
    }
   ],
   "source": [
    "# Unir las tablas de las películas con más calificaciones y las calificaciones promedio\n",
    "info_peliculas <- left_join(mas_calif, califs_promedio, by = c(\"movieid\"=\"movieid\"))\n",
    "info_peliculas[1:3, ]"
   ]
  },
  {
   "cell_type": "code",
   "execution_count": 10,
   "metadata": {
    "vscode": {
     "languageId": "r"
    }
   },
   "outputs": [
    {
     "data": {
      "text/html": [
       "<table class=\"dataframe\">\n",
       "<caption>A tibble: 3 × 4</caption>\n",
       "<thead>\n",
       "\t<tr><th scope=col>movieid</th><th scope=col>n_calif</th><th scope=col>calif_promedio</th><th scope=col>n_regiones</th></tr>\n",
       "\t<tr><th scope=col>&lt;int&gt;</th><th scope=col>&lt;int&gt;</th><th scope=col>&lt;dbl&gt;</th><th scope=col>&lt;int&gt;</th></tr>\n",
       "</thead>\n",
       "<tbody>\n",
       "\t<tr><td>1</td><td>452</td><td>3.878319</td><td>18</td></tr>\n",
       "\t<tr><td>2</td><td>131</td><td>3.206107</td><td>12</td></tr>\n",
       "\t<tr><td>3</td><td> 90</td><td>3.033333</td><td>13</td></tr>\n",
       "</tbody>\n",
       "</table>\n"
      ],
      "text/latex": [
       "A tibble: 3 × 4\n",
       "\\begin{tabular}{llll}\n",
       " movieid & n\\_calif & calif\\_promedio & n\\_regiones\\\\\n",
       " <int> & <int> & <dbl> & <int>\\\\\n",
       "\\hline\n",
       "\t 1 & 452 & 3.878319 & 18\\\\\n",
       "\t 2 & 131 & 3.206107 & 12\\\\\n",
       "\t 3 &  90 & 3.033333 & 13\\\\\n",
       "\\end{tabular}\n"
      ],
      "text/markdown": [
       "\n",
       "A tibble: 3 × 4\n",
       "\n",
       "| movieid &lt;int&gt; | n_calif &lt;int&gt; | calif_promedio &lt;dbl&gt; | n_regiones &lt;int&gt; |\n",
       "|---|---|---|---|\n",
       "| 1 | 452 | 3.878319 | 18 |\n",
       "| 2 | 131 | 3.206107 | 12 |\n",
       "| 3 |  90 | 3.033333 | 13 |\n",
       "\n"
      ],
      "text/plain": [
       "  movieid n_calif calif_promedio n_regiones\n",
       "1 1       452     3.878319       18        \n",
       "2 2       131     3.206107       12        \n",
       "3 3        90     3.033333       13        "
      ]
     },
     "metadata": {},
     "output_type": "display_data"
    }
   ],
   "source": [
    "# Aún es necesario obtener aquellas películas que han sido calificadas por usuarios\n",
    "# de una cantidad más diversa de regiones. La región se obtiene del primer dígito del\n",
    "# código postal del usuario\n",
    "\n",
    "# Se obtiene el primer dígito del código postal en una nueva columna\n",
    "datos <- datos %>% mutate(region = substr(zcode, 1, 1))\n",
    "# Se obtiene el número de regiones en las que ha sido calificada cada película\n",
    "calif_por_region <- datos %>% group_by(movieid) %>% summarise(n_regiones = n_distinct(region))\n",
    "# Se unen las tablas\n",
    "info_peliculas <- left_join(info_peliculas, calif_por_region, by = c(\"movieid\"=\"movieid\"))\n",
    "info_peliculas[1:3, ]"
   ]
  },
  {
   "cell_type": "code",
   "execution_count": 11,
   "metadata": {
    "vscode": {
     "languageId": "r"
    }
   },
   "outputs": [
    {
     "data": {
      "text/html": [
       "1682"
      ],
      "text/latex": [
       "1682"
      ],
      "text/markdown": [
       "1682"
      ],
      "text/plain": [
       "[1] 1682"
      ]
     },
     "metadata": {},
     "output_type": "display_data"
    }
   ],
   "source": [
    "# Conozcamos el tamaño del set de datos\n",
    "length(info_peliculas$movieid)"
   ]
  },
  {
   "cell_type": "code",
   "execution_count": 12,
   "metadata": {
    "vscode": {
     "languageId": "r"
    }
   },
   "outputs": [],
   "source": [
    "# Agregamos la información de las películas\n",
    "info_peliculas <- left_join(info_peliculas, peliculas, by = c(\"movieid\"=\"itemid\"))"
   ]
  },
  {
   "cell_type": "code",
   "execution_count": 13,
   "metadata": {
    "vscode": {
     "languageId": "r"
    }
   },
   "outputs": [],
   "source": [
    "# Tomando el cuenta que tenemos 1682 películas, se tomará una muestra de 100 películas\n",
    "# para realizar el análisis. Primero, se ordena la tabla de películas por el número de\n",
    "# calificaciones y se toma una muestra de 100 películas\n",
    "top100_mas_calif <- info_peliculas %>% arrange(desc(n_calif)) %>% slice(1:100)"
   ]
  },
  {
   "cell_type": "code",
   "execution_count": 14,
   "metadata": {
    "vscode": {
     "languageId": "r"
    }
   },
   "outputs": [],
   "source": [
    "# Segundo, se ordena la tabla de películas por el promedio de calificaciones y se toma\n",
    "# una muestra de 10 películas\n",
    "top10_promedio <- top100_mas_calif %>% arrange(desc(calif_promedio)) %>% slice(1:10)"
   ]
  },
  {
   "cell_type": "code",
   "execution_count": 15,
   "metadata": {
    "vscode": {
     "languageId": "r"
    }
   },
   "outputs": [],
   "source": [
    "# Finalmente, ordenamos las 10 películas según el número de regiones en las que han sido calificadas\n",
    "top10_mas_populares <- top10_promedio %>% arrange(desc(n_regiones))"
   ]
  },
  {
   "cell_type": "code",
   "execution_count": 27,
   "metadata": {
    "vscode": {
     "languageId": "r"
    }
   },
   "outputs": [
    {
     "data": {
      "text/html": [
       "<table class=\"dataframe\">\n",
       "<caption>A tibble: 10 × 5</caption>\n",
       "<thead>\n",
       "\t<tr><th scope=col>movieid</th><th scope=col>title</th><th scope=col>n_calif</th><th scope=col>calif_promedio</th><th scope=col>n_regiones</th></tr>\n",
       "\t<tr><th scope=col>&lt;int&gt;</th><th scope=col>&lt;chr&gt;</th><th scope=col>&lt;int&gt;</th><th scope=col>&lt;dbl&gt;</th><th scope=col>&lt;int&gt;</th></tr>\n",
       "</thead>\n",
       "<tbody>\n",
       "\t<tr><td> 50</td><td>Star Wars (1977)                     </td><td>583</td><td>4.358491</td><td>18</td></tr>\n",
       "\t<tr><td>127</td><td>Godfather, The (1972)                </td><td>413</td><td>4.283293</td><td>16</td></tr>\n",
       "\t<tr><td>318</td><td>Schindlers List (1993)               </td><td>298</td><td>4.466443</td><td>15</td></tr>\n",
       "\t<tr><td>483</td><td>Casablanca (1942)                    </td><td>243</td><td>4.456790</td><td>15</td></tr>\n",
       "\t<tr><td> 12</td><td>Usual Suspects, The (1995)           </td><td>267</td><td>4.385768</td><td>15</td></tr>\n",
       "\t<tr><td>174</td><td>Raiders of the Lost Ark (1981)       </td><td>420</td><td>4.252381</td><td>15</td></tr>\n",
       "\t<tr><td> 64</td><td>Shawshank Redemption, The (1994)     </td><td>283</td><td>4.445230</td><td>14</td></tr>\n",
       "\t<tr><td>357</td><td>One Flew Over the Cuckoos Nest (1975)</td><td>264</td><td>4.291667</td><td>14</td></tr>\n",
       "\t<tr><td> 98</td><td>Silence of the Lambs, The (1991)     </td><td>390</td><td>4.289744</td><td>14</td></tr>\n",
       "\t<tr><td>427</td><td>To Kill a Mockingbird (1962)         </td><td>219</td><td>4.292237</td><td>13</td></tr>\n",
       "</tbody>\n",
       "</table>\n"
      ],
      "text/latex": [
       "A tibble: 10 × 5\n",
       "\\begin{tabular}{lllll}\n",
       " movieid & title & n\\_calif & calif\\_promedio & n\\_regiones\\\\\n",
       " <int> & <chr> & <int> & <dbl> & <int>\\\\\n",
       "\\hline\n",
       "\t  50 & Star Wars (1977)                      & 583 & 4.358491 & 18\\\\\n",
       "\t 127 & Godfather, The (1972)                 & 413 & 4.283293 & 16\\\\\n",
       "\t 318 & Schindlers List (1993)                & 298 & 4.466443 & 15\\\\\n",
       "\t 483 & Casablanca (1942)                     & 243 & 4.456790 & 15\\\\\n",
       "\t  12 & Usual Suspects, The (1995)            & 267 & 4.385768 & 15\\\\\n",
       "\t 174 & Raiders of the Lost Ark (1981)        & 420 & 4.252381 & 15\\\\\n",
       "\t  64 & Shawshank Redemption, The (1994)      & 283 & 4.445230 & 14\\\\\n",
       "\t 357 & One Flew Over the Cuckoos Nest (1975) & 264 & 4.291667 & 14\\\\\n",
       "\t  98 & Silence of the Lambs, The (1991)      & 390 & 4.289744 & 14\\\\\n",
       "\t 427 & To Kill a Mockingbird (1962)          & 219 & 4.292237 & 13\\\\\n",
       "\\end{tabular}\n"
      ],
      "text/markdown": [
       "\n",
       "A tibble: 10 × 5\n",
       "\n",
       "| movieid &lt;int&gt; | title &lt;chr&gt; | n_calif &lt;int&gt; | calif_promedio &lt;dbl&gt; | n_regiones &lt;int&gt; |\n",
       "|---|---|---|---|---|\n",
       "|  50 | Star Wars (1977)                      | 583 | 4.358491 | 18 |\n",
       "| 127 | Godfather, The (1972)                 | 413 | 4.283293 | 16 |\n",
       "| 318 | Schindlers List (1993)                | 298 | 4.466443 | 15 |\n",
       "| 483 | Casablanca (1942)                     | 243 | 4.456790 | 15 |\n",
       "|  12 | Usual Suspects, The (1995)            | 267 | 4.385768 | 15 |\n",
       "| 174 | Raiders of the Lost Ark (1981)        | 420 | 4.252381 | 15 |\n",
       "|  64 | Shawshank Redemption, The (1994)      | 283 | 4.445230 | 14 |\n",
       "| 357 | One Flew Over the Cuckoos Nest (1975) | 264 | 4.291667 | 14 |\n",
       "|  98 | Silence of the Lambs, The (1991)      | 390 | 4.289744 | 14 |\n",
       "| 427 | To Kill a Mockingbird (1962)          | 219 | 4.292237 | 13 |\n",
       "\n"
      ],
      "text/plain": [
       "   movieid title                                 n_calif calif_promedio\n",
       "1   50     Star Wars (1977)                      583     4.358491      \n",
       "2  127     Godfather, The (1972)                 413     4.283293      \n",
       "3  318     Schindlers List (1993)                298     4.466443      \n",
       "4  483     Casablanca (1942)                     243     4.456790      \n",
       "5   12     Usual Suspects, The (1995)            267     4.385768      \n",
       "6  174     Raiders of the Lost Ark (1981)        420     4.252381      \n",
       "7   64     Shawshank Redemption, The (1994)      283     4.445230      \n",
       "8  357     One Flew Over the Cuckoos Nest (1975) 264     4.291667      \n",
       "9   98     Silence of the Lambs, The (1991)      390     4.289744      \n",
       "10 427     To Kill a Mockingbird (1962)          219     4.292237      \n",
       "   n_regiones\n",
       "1  18        \n",
       "2  16        \n",
       "3  15        \n",
       "4  15        \n",
       "5  15        \n",
       "6  15        \n",
       "7  14        \n",
       "8  14        \n",
       "9  14        \n",
       "10 13        "
      ]
     },
     "metadata": {},
     "output_type": "display_data"
    },
    {
     "data": {
      "image/png": "[encoded data removed]",
      "text/plain": [
       "plot without title"
      ]
     },
     "metadata": {
      "image/png": {
       "height": 420,
       "width": 420
      }
     },
     "output_type": "display_data"
    }
   ],
   "source": [
    "# Mostramos el nombre de las películas, el número de calificaciones, el promedio de calificaciones\n",
    "# y el número de regiones, así como desplegamos en un gráfico el número de regiones en el eje y y\n",
    "# el nombre de las películas en el eje x\n",
    "pelis_n_regiones <- top10_mas_populares %>% select(title, n_regiones)\n",
    "barplot(pelis_n_regiones$n_regiones, names.arg = pelis_n_regiones$title, las = 2)\n",
    "top10_mas_populares %>% select(movieid, title, n_calif, calif_promedio, n_regiones)\n"
   ]
  },
  {
   "cell_type": "markdown",
   "metadata": {},
   "source": [
    "Ahora, respondamos a la pregunta\n",
    "\n",
    "* ¿Cuantas películas vieron los H y M?"
   ]
  },
  {
   "cell_type": "code",
   "execution_count": 17,
   "metadata": {
    "vscode": {
     "languageId": "r"
    }
   },
   "outputs": [
    {
     "data": {
      "text/html": [
       "100000"
      ],
      "text/latex": [
       "100000"
      ],
      "text/markdown": [
       "100000"
      ],
      "text/plain": [
       "[1] 100000"
      ]
     },
     "metadata": {},
     "output_type": "display_data"
    },
    {
     "data": {
      "text/html": [
       "100000"
      ],
      "text/latex": [
       "100000"
      ],
      "text/markdown": [
       "100000"
      ],
      "text/plain": [
       "[1] 100000"
      ]
     },
     "metadata": {},
     "output_type": "display_data"
    }
   ],
   "source": [
    "# Mostrar la longitud de datos\n",
    "length(datos$movieid)\n",
    "\n",
    "# Filtramos la posibilidad de que una película haya sido calificada más de una vez por el mismo usuario\n",
    "datos_solo_una_calif <- datos %>% distinct(movieid, userid)\n",
    "length(datos_solo_una_calif$movieid)"
   ]
  },
  {
   "cell_type": "code",
   "execution_count": 18,
   "metadata": {
    "vscode": {
     "languageId": "r"
    }
   },
   "outputs": [
    {
     "data": {
      "text/html": [
       "<table class=\"dataframe\">\n",
       "<caption>A tibble: 2 × 2</caption>\n",
       "<thead>\n",
       "\t<tr><th scope=col>gender</th><th scope=col>n_pelis</th></tr>\n",
       "\t<tr><th scope=col>&lt;chr&gt;</th><th scope=col>&lt;int&gt;</th></tr>\n",
       "</thead>\n",
       "<tbody>\n",
       "\t<tr><td>F</td><td>25740</td></tr>\n",
       "\t<tr><td>M</td><td>74260</td></tr>\n",
       "</tbody>\n",
       "</table>\n"
      ],
      "text/latex": [
       "A tibble: 2 × 2\n",
       "\\begin{tabular}{ll}\n",
       " gender & n\\_pelis\\\\\n",
       " <chr> & <int>\\\\\n",
       "\\hline\n",
       "\t F & 25740\\\\\n",
       "\t M & 74260\\\\\n",
       "\\end{tabular}\n"
      ],
      "text/markdown": [
       "\n",
       "A tibble: 2 × 2\n",
       "\n",
       "| gender &lt;chr&gt; | n_pelis &lt;int&gt; |\n",
       "|---|---|\n",
       "| F | 25740 |\n",
       "| M | 74260 |\n",
       "\n"
      ],
      "text/plain": [
       "  gender n_pelis\n",
       "1 F      25740  \n",
       "2 M      74260  "
      ]
     },
     "metadata": {},
     "output_type": "display_data"
    },
    {
     "data": {
      "image/png": "[encoded data removed]",
      "text/plain": [
       "Plot with title \"Películas vistas por género\""
      ]
     },
     "metadata": {
      "image/png": {
       "height": 420,
       "width": 420
      }
     },
     "output_type": "display_data"
    }
   ],
   "source": [
    "# Sabiendo que cada usuario calificó sólo una vez cada película, podemos obtener cuántas películas vieron.\n",
    "# Ahora, obtenemos el número de películas que vieron los usuarios hombres y mujeres\n",
    "\n",
    "pelis_por_sexo <- datos %>% group_by(gender) %>% summarise(n_pelis = n())\n",
    "pelis_por_sexo\n",
    "barplot(pelis_por_sexo$n_pelis, names.arg = pelis_por_sexo$gender, xlab = \"Género\", ylab = \"Número de películas\", main = \"Películas vistas por género\")"
   ]
  },
  {
   "cell_type": "markdown",
   "metadata": {},
   "source": [
    "Finalmente, deebemos responder la pregunta\n",
    "\n",
    "* ¿Donde se ven las top 10 películas más populares?\n",
    "\n",
    "Primero, es necesario definir que para responder esta pregunta se tomará la región que aparezca más veces para la calificación de una película, con lo que se obtendrá una lista de 10 regiones (posiblemente con valores repetidos)"
   ]
  },
  {
   "cell_type": "code",
   "execution_count": 21,
   "metadata": {
    "vscode": {
     "languageId": "r"
    }
   },
   "outputs": [],
   "source": [
    "# Ya tenemos localizadas las regiones en las que se han calificado las películas en el dataframe datos.\n",
    "# Primero, es necesario filtrar las 10 películas más populares del dataframe datos, para luego\n",
    "# obtener la región en la que se ha calificado cada película y de ahí determinar cuál es la región\n",
    "# que más aparece en cada calificación\n",
    "\n",
    "# Obtenemos las calificaciones de las 10 películas más populares\n",
    "datos_top10 <- datos %>% filter(movieid %in% top10_mas_populares$movieid)\n",
    "\n",
    "# Obtenemos la región en la que se ha calificado cada película\n",
    "datos_top10_regiones <- datos_top10 %>% select(movieid, region)"
   ]
  },
  {
   "cell_type": "code",
   "execution_count": 23,
   "metadata": {
    "vscode": {
     "languageId": "r"
    }
   },
   "outputs": [
    {
     "data": {
      "text/html": [
       "<table class=\"dataframe\">\n",
       "<caption>A data.frame: 10 × 2</caption>\n",
       "<thead>\n",
       "\t<tr><th></th><th scope=col>movieid</th><th scope=col>region</th></tr>\n",
       "\t<tr><th></th><th scope=col>&lt;int&gt;</th><th scope=col>&lt;chr&gt;</th></tr>\n",
       "</thead>\n",
       "<tbody>\n",
       "\t<tr><th scope=row>1</th><td> 98</td><td>5</td></tr>\n",
       "\t<tr><th scope=row>2</th><td>427</td><td>0</td></tr>\n",
       "\t<tr><th scope=row>3</th><td>174</td><td>6</td></tr>\n",
       "\t<tr><th scope=row>4</th><td>427</td><td>9</td></tr>\n",
       "\t<tr><th scope=row>5</th><td>427</td><td>2</td></tr>\n",
       "\t<tr><th scope=row>6</th><td> 98</td><td>7</td></tr>\n",
       "\t<tr><th scope=row>7</th><td> 98</td><td>2</td></tr>\n",
       "\t<tr><th scope=row>8</th><td>174</td><td>9</td></tr>\n",
       "\t<tr><th scope=row>9</th><td>483</td><td>9</td></tr>\n",
       "\t<tr><th scope=row>10</th><td>127</td><td>4</td></tr>\n",
       "</tbody>\n",
       "</table>\n"
      ],
      "text/latex": [
       "A data.frame: 10 × 2\n",
       "\\begin{tabular}{r|ll}\n",
       "  & movieid & region\\\\\n",
       "  & <int> & <chr>\\\\\n",
       "\\hline\n",
       "\t1 &  98 & 5\\\\\n",
       "\t2 & 427 & 0\\\\\n",
       "\t3 & 174 & 6\\\\\n",
       "\t4 & 427 & 9\\\\\n",
       "\t5 & 427 & 2\\\\\n",
       "\t6 &  98 & 7\\\\\n",
       "\t7 &  98 & 2\\\\\n",
       "\t8 & 174 & 9\\\\\n",
       "\t9 & 483 & 9\\\\\n",
       "\t10 & 127 & 4\\\\\n",
       "\\end{tabular}\n"
      ],
      "text/markdown": [
       "\n",
       "A data.frame: 10 × 2\n",
       "\n",
       "| <!--/--> | movieid &lt;int&gt; | region &lt;chr&gt; |\n",
       "|---|---|---|\n",
       "| 1 |  98 | 5 |\n",
       "| 2 | 427 | 0 |\n",
       "| 3 | 174 | 6 |\n",
       "| 4 | 427 | 9 |\n",
       "| 5 | 427 | 2 |\n",
       "| 6 |  98 | 7 |\n",
       "| 7 |  98 | 2 |\n",
       "| 8 | 174 | 9 |\n",
       "| 9 | 483 | 9 |\n",
       "| 10 | 127 | 4 |\n",
       "\n"
      ],
      "text/plain": [
       "   movieid region\n",
       "1   98     5     \n",
       "2  427     0     \n",
       "3  174     6     \n",
       "4  427     9     \n",
       "5  427     2     \n",
       "6   98     7     \n",
       "7   98     2     \n",
       "8  174     9     \n",
       "9  483     9     \n",
       "10 127     4     "
      ]
     },
     "metadata": {},
     "output_type": "display_data"
    }
   ],
   "source": [
    "datos_top10_regiones[1:10, ]"
   ]
  },
  {
   "cell_type": "code",
   "execution_count": 26,
   "metadata": {
    "vscode": {
     "languageId": "r"
    }
   },
   "outputs": [
    {
     "data": {
      "text/html": [
       "<table class=\"dataframe\">\n",
       "<caption>A tibble: 10 × 2</caption>\n",
       "<thead>\n",
       "\t<tr><th scope=col>movieid</th><th scope=col>region_mas_frecuente</th></tr>\n",
       "\t<tr><th scope=col>&lt;int&gt;</th><th scope=col>&lt;chr&gt;</th></tr>\n",
       "</thead>\n",
       "<tbody>\n",
       "\t<tr><td> 12</td><td>9</td></tr>\n",
       "\t<tr><td> 50</td><td>9</td></tr>\n",
       "\t<tr><td> 64</td><td>9</td></tr>\n",
       "\t<tr><td> 98</td><td>9</td></tr>\n",
       "\t<tr><td>127</td><td>9</td></tr>\n",
       "\t<tr><td>174</td><td>9</td></tr>\n",
       "\t<tr><td>318</td><td>9</td></tr>\n",
       "\t<tr><td>357</td><td>9</td></tr>\n",
       "\t<tr><td>427</td><td>9</td></tr>\n",
       "\t<tr><td>483</td><td>9</td></tr>\n",
       "</tbody>\n",
       "</table>\n"
      ],
      "text/latex": [
       "A tibble: 10 × 2\n",
       "\\begin{tabular}{ll}\n",
       " movieid & region\\_mas\\_frecuente\\\\\n",
       " <int> & <chr>\\\\\n",
       "\\hline\n",
       "\t  12 & 9\\\\\n",
       "\t  50 & 9\\\\\n",
       "\t  64 & 9\\\\\n",
       "\t  98 & 9\\\\\n",
       "\t 127 & 9\\\\\n",
       "\t 174 & 9\\\\\n",
       "\t 318 & 9\\\\\n",
       "\t 357 & 9\\\\\n",
       "\t 427 & 9\\\\\n",
       "\t 483 & 9\\\\\n",
       "\\end{tabular}\n"
      ],
      "text/markdown": [
       "\n",
       "A tibble: 10 × 2\n",
       "\n",
       "| movieid &lt;int&gt; | region_mas_frecuente &lt;chr&gt; |\n",
       "|---|---|\n",
       "|  12 | 9 |\n",
       "|  50 | 9 |\n",
       "|  64 | 9 |\n",
       "|  98 | 9 |\n",
       "| 127 | 9 |\n",
       "| 174 | 9 |\n",
       "| 318 | 9 |\n",
       "| 357 | 9 |\n",
       "| 427 | 9 |\n",
       "| 483 | 9 |\n",
       "\n"
      ],
      "text/plain": [
       "   movieid region_mas_frecuente\n",
       "1   12     9                   \n",
       "2   50     9                   \n",
       "3   64     9                   \n",
       "4   98     9                   \n",
       "5  127     9                   \n",
       "6  174     9                   \n",
       "7  318     9                   \n",
       "8  357     9                   \n",
       "9  427     9                   \n",
       "10 483     9                   "
      ]
     },
     "metadata": {},
     "output_type": "display_data"
    }
   ],
   "source": [
    "\n",
    "# Determinamos cuál es la región que más aparece en cada calificación por película\n",
    "regiones_top10 <- datos_top10_regiones %>% group_by(movieid) %>% summarise(region_mas_frecuente = names(which.max(table(region))))\n",
    "regiones_top10[1:10, ]"
   ]
  }
 ],
 "metadata": {
  "kernelspec": {
   "display_name": "R",
   "language": "R",
   "name": "ir"
  },
  "language_info": {
   "codemirror_mode": "r",
   "file_extension": ".r",
   "mimetype": "text/x-r-source",
   "name": "R",
   "pygments_lexer": "r",
   "version": "4.2.2"
  },
  "orig_nbformat": 4
 },
 "nbformat": 4,
 "nbformat_minor": 2
}
