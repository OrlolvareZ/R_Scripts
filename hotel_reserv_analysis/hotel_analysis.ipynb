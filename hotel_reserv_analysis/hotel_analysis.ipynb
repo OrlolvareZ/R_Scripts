{
 "cells": [
  {
   "cell_type": "code",
   "execution_count": 2,
   "metadata": {
    "vscode": {
     "languageId": "r"
    }
   },
   "outputs": [],
   "source": [
    "# Cargar librerías importantes\n",
    "library(dplyr)\n",
    "# library(ggplot2)\n",
    "library(readr)\n",
    "library(ggplot2)"
   ]
  },
  {
   "cell_type": "code",
   "execution_count": 3,
   "metadata": {
    "vscode": {
     "languageId": "r"
    }
   },
   "outputs": [],
   "source": [
    "# Cargar conjunto de datos, que es un archivo csv\n",
    "info_reservaciones <- read.csv(\"./reserv_data/reservations.csv\")"
   ]
  },
  {
   "cell_type": "code",
   "execution_count": 4,
   "metadata": {
    "vscode": {
     "languageId": "r"
    }
   },
   "outputs": [
    {
     "data": {
      "text/html": [
       "36275"
      ],
      "text/latex": [
       "36275"
      ],
      "text/markdown": [
       "36275"
      ],
      "text/plain": [
       "[1] 36275"
      ]
     },
     "metadata": {},
     "output_type": "display_data"
    }
   ],
   "source": [
    "# Número de filas de la tabla\n",
    "nrow(info_reservaciones)"
   ]
  },
  {
   "cell_type": "code",
   "execution_count": 5,
   "metadata": {
    "vscode": {
     "languageId": "r"
    }
   },
   "outputs": [],
   "source": [
    "# Cambiar el ID de la reservación, tal que este esté libre de los primeros tres caracteres y sea numérico\n",
    "info_reservaciones$Booking_ID <- as.numeric(substr(info_reservaciones$Booking_ID, 4, nchar(info_reservaciones$Booking_ID)))"
   ]
  },
  {
   "cell_type": "code",
   "execution_count": 6,
   "metadata": {
    "vscode": {
     "languageId": "r"
    }
   },
   "outputs": [],
   "source": [
    "# Obtener la reservación y su estado\n",
    "estados_reserv <- info_reservaciones[,c(\"Booking_ID\",\"booking_status\")]"
   ]
  },
  {
   "cell_type": "code",
   "execution_count": 7,
   "metadata": {
    "vscode": {
     "languageId": "r"
    }
   },
   "outputs": [
    {
     "data": {
      "text/html": [
       "<table class=\"dataframe\">\n",
       "<caption>A data.frame: 6 × 16</caption>\n",
       "<thead>\n",
       "\t<tr><th></th><th scope=col>Booking_ID</th><th scope=col>no_of_adults</th><th scope=col>no_of_children</th><th scope=col>no_of_weekend_nights</th><th scope=col>no_of_week_nights</th><th scope=col>required_car_parking_space</th><th scope=col>lead_time</th><th scope=col>arrival_year</th><th scope=col>arrival_month</th><th scope=col>arrival_date</th><th scope=col>repeated_guest</th><th scope=col>no_of_previous_cancellations</th><th scope=col>no_of_previous_bookings_not_canceled</th><th scope=col>avg_price_per_room</th><th scope=col>no_of_special_requests</th><th scope=col>booking_status</th></tr>\n",
       "\t<tr><th></th><th scope=col>&lt;dbl&gt;</th><th scope=col>&lt;int&gt;</th><th scope=col>&lt;int&gt;</th><th scope=col>&lt;int&gt;</th><th scope=col>&lt;int&gt;</th><th scope=col>&lt;int&gt;</th><th scope=col>&lt;int&gt;</th><th scope=col>&lt;int&gt;</th><th scope=col>&lt;int&gt;</th><th scope=col>&lt;int&gt;</th><th scope=col>&lt;int&gt;</th><th scope=col>&lt;int&gt;</th><th scope=col>&lt;int&gt;</th><th scope=col>&lt;dbl&gt;</th><th scope=col>&lt;int&gt;</th><th scope=col>&lt;chr&gt;</th></tr>\n",
       "</thead>\n",
       "<tbody>\n",
       "\t<tr><th scope=row>1</th><td>1</td><td>2</td><td>0</td><td>1</td><td>2</td><td>0</td><td>224</td><td>2017</td><td>10</td><td> 2</td><td>0</td><td>0</td><td>0</td><td> 65.00</td><td>0</td><td>Not_Canceled</td></tr>\n",
       "\t<tr><th scope=row>2</th><td>2</td><td>2</td><td>0</td><td>2</td><td>3</td><td>0</td><td>  5</td><td>2018</td><td>11</td><td> 6</td><td>0</td><td>0</td><td>0</td><td>106.68</td><td>1</td><td>Not_Canceled</td></tr>\n",
       "\t<tr><th scope=row>3</th><td>3</td><td>1</td><td>0</td><td>2</td><td>1</td><td>0</td><td>  1</td><td>2018</td><td> 2</td><td>28</td><td>0</td><td>0</td><td>0</td><td> 60.00</td><td>0</td><td>Canceled    </td></tr>\n",
       "\t<tr><th scope=row>4</th><td>4</td><td>2</td><td>0</td><td>0</td><td>2</td><td>0</td><td>211</td><td>2018</td><td> 5</td><td>20</td><td>0</td><td>0</td><td>0</td><td>100.00</td><td>0</td><td>Canceled    </td></tr>\n",
       "\t<tr><th scope=row>5</th><td>5</td><td>2</td><td>0</td><td>1</td><td>1</td><td>0</td><td> 48</td><td>2018</td><td> 4</td><td>11</td><td>0</td><td>0</td><td>0</td><td> 94.50</td><td>0</td><td>Canceled    </td></tr>\n",
       "\t<tr><th scope=row>6</th><td>6</td><td>2</td><td>0</td><td>0</td><td>2</td><td>0</td><td>346</td><td>2018</td><td> 9</td><td>13</td><td>0</td><td>0</td><td>0</td><td>115.00</td><td>1</td><td>Canceled    </td></tr>\n",
       "</tbody>\n",
       "</table>\n"
      ],
      "text/latex": [
       "A data.frame: 6 × 16\n",
       "\\begin{tabular}{r|llllllllllllllll}\n",
       "  & Booking\\_ID & no\\_of\\_adults & no\\_of\\_children & no\\_of\\_weekend\\_nights & no\\_of\\_week\\_nights & required\\_car\\_parking\\_space & lead\\_time & arrival\\_year & arrival\\_month & arrival\\_date & repeated\\_guest & no\\_of\\_previous\\_cancellations & no\\_of\\_previous\\_bookings\\_not\\_canceled & avg\\_price\\_per\\_room & no\\_of\\_special\\_requests & booking\\_status\\\\\n",
       "  & <dbl> & <int> & <int> & <int> & <int> & <int> & <int> & <int> & <int> & <int> & <int> & <int> & <int> & <dbl> & <int> & <chr>\\\\\n",
       "\\hline\n",
       "\t1 & 1 & 2 & 0 & 1 & 2 & 0 & 224 & 2017 & 10 &  2 & 0 & 0 & 0 &  65.00 & 0 & Not\\_Canceled\\\\\n",
       "\t2 & 2 & 2 & 0 & 2 & 3 & 0 &   5 & 2018 & 11 &  6 & 0 & 0 & 0 & 106.68 & 1 & Not\\_Canceled\\\\\n",
       "\t3 & 3 & 1 & 0 & 2 & 1 & 0 &   1 & 2018 &  2 & 28 & 0 & 0 & 0 &  60.00 & 0 & Canceled    \\\\\n",
       "\t4 & 4 & 2 & 0 & 0 & 2 & 0 & 211 & 2018 &  5 & 20 & 0 & 0 & 0 & 100.00 & 0 & Canceled    \\\\\n",
       "\t5 & 5 & 2 & 0 & 1 & 1 & 0 &  48 & 2018 &  4 & 11 & 0 & 0 & 0 &  94.50 & 0 & Canceled    \\\\\n",
       "\t6 & 6 & 2 & 0 & 0 & 2 & 0 & 346 & 2018 &  9 & 13 & 0 & 0 & 0 & 115.00 & 1 & Canceled    \\\\\n",
       "\\end{tabular}\n"
      ],
      "text/markdown": [
       "\n",
       "A data.frame: 6 × 16\n",
       "\n",
       "| <!--/--> | Booking_ID &lt;dbl&gt; | no_of_adults &lt;int&gt; | no_of_children &lt;int&gt; | no_of_weekend_nights &lt;int&gt; | no_of_week_nights &lt;int&gt; | required_car_parking_space &lt;int&gt; | lead_time &lt;int&gt; | arrival_year &lt;int&gt; | arrival_month &lt;int&gt; | arrival_date &lt;int&gt; | repeated_guest &lt;int&gt; | no_of_previous_cancellations &lt;int&gt; | no_of_previous_bookings_not_canceled &lt;int&gt; | avg_price_per_room &lt;dbl&gt; | no_of_special_requests &lt;int&gt; | booking_status &lt;chr&gt; |\n",
       "|---|---|---|---|---|---|---|---|---|---|---|---|---|---|---|---|---|\n",
       "| 1 | 1 | 2 | 0 | 1 | 2 | 0 | 224 | 2017 | 10 |  2 | 0 | 0 | 0 |  65.00 | 0 | Not_Canceled |\n",
       "| 2 | 2 | 2 | 0 | 2 | 3 | 0 |   5 | 2018 | 11 |  6 | 0 | 0 | 0 | 106.68 | 1 | Not_Canceled |\n",
       "| 3 | 3 | 1 | 0 | 2 | 1 | 0 |   1 | 2018 |  2 | 28 | 0 | 0 | 0 |  60.00 | 0 | Canceled     |\n",
       "| 4 | 4 | 2 | 0 | 0 | 2 | 0 | 211 | 2018 |  5 | 20 | 0 | 0 | 0 | 100.00 | 0 | Canceled     |\n",
       "| 5 | 5 | 2 | 0 | 1 | 1 | 0 |  48 | 2018 |  4 | 11 | 0 | 0 | 0 |  94.50 | 0 | Canceled     |\n",
       "| 6 | 6 | 2 | 0 | 0 | 2 | 0 | 346 | 2018 |  9 | 13 | 0 | 0 | 0 | 115.00 | 1 | Canceled     |\n",
       "\n"
      ],
      "text/plain": [
       "  Booking_ID no_of_adults no_of_children no_of_weekend_nights no_of_week_nights\n",
       "1 1          2            0              1                    2                \n",
       "2 2          2            0              2                    3                \n",
       "3 3          1            0              2                    1                \n",
       "4 4          2            0              0                    2                \n",
       "5 5          2            0              1                    1                \n",
       "6 6          2            0              0                    2                \n",
       "  required_car_parking_space lead_time arrival_year arrival_month arrival_date\n",
       "1 0                          224       2017         10             2          \n",
       "2 0                            5       2018         11             6          \n",
       "3 0                            1       2018          2            28          \n",
       "4 0                          211       2018          5            20          \n",
       "5 0                           48       2018          4            11          \n",
       "6 0                          346       2018          9            13          \n",
       "  repeated_guest no_of_previous_cancellations\n",
       "1 0              0                           \n",
       "2 0              0                           \n",
       "3 0              0                           \n",
       "4 0              0                           \n",
       "5 0              0                           \n",
       "6 0              0                           \n",
       "  no_of_previous_bookings_not_canceled avg_price_per_room\n",
       "1 0                                     65.00            \n",
       "2 0                                    106.68            \n",
       "3 0                                     60.00            \n",
       "4 0                                    100.00            \n",
       "5 0                                     94.50            \n",
       "6 0                                    115.00            \n",
       "  no_of_special_requests booking_status\n",
       "1 0                      Not_Canceled  \n",
       "2 1                      Not_Canceled  \n",
       "3 0                      Canceled      \n",
       "4 0                      Canceled      \n",
       "5 0                      Canceled      \n",
       "6 1                      Canceled      "
      ]
     },
     "metadata": {},
     "output_type": "display_data"
    }
   ],
   "source": [
    "# Quitar columnas que no contengan datos de tipo numérico, pues el análisis se hará con\n",
    "# el algoritmo de k-vecinos, que, en primera instancia, solo trabaja con datos numéricos.\n",
    "# A su vez, se debe mantener el ID de la reservación\n",
    "info_reservaciones <- info_reservaciones[, sapply(info_reservaciones, is.numeric)]\n",
    "# Se agrega la columna que describe el estado de la reservación, que puede ser cancelada o no cancelada.\n",
    "info_reservaciones <- left_join(info_reservaciones, estados_reserv, by = \"Booking_ID\")\n",
    "head(info_reservaciones)"
   ]
  },
  {
   "cell_type": "code",
   "execution_count": 8,
   "metadata": {
    "vscode": {
     "languageId": "r"
    }
   },
   "outputs": [
    {
     "data": {
      "image/png": "[encoded data removed]",
      "text/plain": [
       "plot without title"
      ]
     },
     "metadata": {
      "image/png": {
       "height": 420,
       "width": 420
      }
     },
     "output_type": "display_data"
    }
   ],
   "source": [
    "# Crea una gráfica que muestre los datos como puntos en un plano cartesiano, tomando las variables\n",
    "# no_of_adults y no_of_children como ejes x e y, respectivamente.\n",
    "# La variable booking_status indica el color de los puntos, donde los puntos rojos indican que la reservación\n",
    "# fue cancelada y los puntos verdes indican que la reservación no fue cancelada.\n",
    "\n",
    "ggplot(info_reservaciones, aes(x = no_of_adults, y = no_of_children, color = booking_status, size = booking_status)) +\n",
    "    geom_point() +\n",
    "    scale_color_manual(values = c(\"red\", \"green\")) +\n",
    "    scale_size_manual(values = c(1, 3)) +\n",
    "    labs(title = \"Reservaciones\", x = \"Número de adultos\", y = \"Número de niños\")"
   ]
  },
  {
   "cell_type": "code",
   "execution_count": 9,
   "metadata": {
    "vscode": {
     "languageId": "r"
    }
   },
   "outputs": [],
   "source": [
    "# Se declara la función para normalizar los datos, que permite deshacerse de diferencias\n",
    "# de magnitud entre los datos y nos permite graficarlos en un mismo plano.\n",
    "normalizar <-\n",
    "function(x) {\n",
    "    (x -min(x))/(max(x)-min(x))\n",
    "}"
   ]
  },
  {
   "cell_type": "code",
   "execution_count": 10,
   "metadata": {
    "vscode": {
     "languageId": "r"
    }
   },
   "outputs": [
    {
     "data": {
      "text/html": [
       "<table class=\"dataframe\">\n",
       "<caption>A data.frame: 6 × 13</caption>\n",
       "<thead>\n",
       "\t<tr><th></th><th scope=col>no_of_adults</th><th scope=col>no_of_children</th><th scope=col>no_of_weekend_nights</th><th scope=col>no_of_week_nights</th><th scope=col>required_car_parking_space</th><th scope=col>lead_time</th><th scope=col>arrival_year</th><th scope=col>arrival_month</th><th scope=col>arrival_date</th><th scope=col>repeated_guest</th><th scope=col>no_of_previous_cancellations</th><th scope=col>no_of_previous_bookings_not_canceled</th><th scope=col>avg_price_per_room</th></tr>\n",
       "\t<tr><th></th><th scope=col>&lt;dbl&gt;</th><th scope=col>&lt;dbl&gt;</th><th scope=col>&lt;dbl&gt;</th><th scope=col>&lt;dbl&gt;</th><th scope=col>&lt;dbl&gt;</th><th scope=col>&lt;dbl&gt;</th><th scope=col>&lt;dbl&gt;</th><th scope=col>&lt;dbl&gt;</th><th scope=col>&lt;dbl&gt;</th><th scope=col>&lt;dbl&gt;</th><th scope=col>&lt;dbl&gt;</th><th scope=col>&lt;dbl&gt;</th><th scope=col>&lt;dbl&gt;</th></tr>\n",
       "</thead>\n",
       "<tbody>\n",
       "\t<tr><th scope=row>1</th><td>0.50</td><td>0</td><td>0.1428571</td><td>0.11764706</td><td>0</td><td>0.505643341</td><td>0</td><td>0.81818182</td><td>0.03333333</td><td>0</td><td>0</td><td>0</td><td>0.1203704</td></tr>\n",
       "\t<tr><th scope=row>2</th><td>0.50</td><td>0</td><td>0.2857143</td><td>0.17647059</td><td>0</td><td>0.011286682</td><td>1</td><td>0.90909091</td><td>0.16666667</td><td>0</td><td>0</td><td>0</td><td>0.1975556</td></tr>\n",
       "\t<tr><th scope=row>3</th><td>0.25</td><td>0</td><td>0.2857143</td><td>0.05882353</td><td>0</td><td>0.002257336</td><td>1</td><td>0.09090909</td><td>0.90000000</td><td>0</td><td>0</td><td>0</td><td>0.1111111</td></tr>\n",
       "\t<tr><th scope=row>4</th><td>0.50</td><td>0</td><td>0.0000000</td><td>0.11764706</td><td>0</td><td>0.476297968</td><td>1</td><td>0.36363636</td><td>0.63333333</td><td>0</td><td>0</td><td>0</td><td>0.1851852</td></tr>\n",
       "\t<tr><th scope=row>5</th><td>0.50</td><td>0</td><td>0.1428571</td><td>0.05882353</td><td>0</td><td>0.108352144</td><td>1</td><td>0.27272727</td><td>0.33333333</td><td>0</td><td>0</td><td>0</td><td>0.1750000</td></tr>\n",
       "\t<tr><th scope=row>6</th><td>0.50</td><td>0</td><td>0.0000000</td><td>0.11764706</td><td>0</td><td>0.781038375</td><td>1</td><td>0.72727273</td><td>0.40000000</td><td>0</td><td>0</td><td>0</td><td>0.2129630</td></tr>\n",
       "</tbody>\n",
       "</table>\n"
      ],
      "text/latex": [
       "A data.frame: 6 × 13\n",
       "\\begin{tabular}{r|lllllllllllll}\n",
       "  & no\\_of\\_adults & no\\_of\\_children & no\\_of\\_weekend\\_nights & no\\_of\\_week\\_nights & required\\_car\\_parking\\_space & lead\\_time & arrival\\_year & arrival\\_month & arrival\\_date & repeated\\_guest & no\\_of\\_previous\\_cancellations & no\\_of\\_previous\\_bookings\\_not\\_canceled & avg\\_price\\_per\\_room\\\\\n",
       "  & <dbl> & <dbl> & <dbl> & <dbl> & <dbl> & <dbl> & <dbl> & <dbl> & <dbl> & <dbl> & <dbl> & <dbl> & <dbl>\\\\\n",
       "\\hline\n",
       "\t1 & 0.50 & 0 & 0.1428571 & 0.11764706 & 0 & 0.505643341 & 0 & 0.81818182 & 0.03333333 & 0 & 0 & 0 & 0.1203704\\\\\n",
       "\t2 & 0.50 & 0 & 0.2857143 & 0.17647059 & 0 & 0.011286682 & 1 & 0.90909091 & 0.16666667 & 0 & 0 & 0 & 0.1975556\\\\\n",
       "\t3 & 0.25 & 0 & 0.2857143 & 0.05882353 & 0 & 0.002257336 & 1 & 0.09090909 & 0.90000000 & 0 & 0 & 0 & 0.1111111\\\\\n",
       "\t4 & 0.50 & 0 & 0.0000000 & 0.11764706 & 0 & 0.476297968 & 1 & 0.36363636 & 0.63333333 & 0 & 0 & 0 & 0.1851852\\\\\n",
       "\t5 & 0.50 & 0 & 0.1428571 & 0.05882353 & 0 & 0.108352144 & 1 & 0.27272727 & 0.33333333 & 0 & 0 & 0 & 0.1750000\\\\\n",
       "\t6 & 0.50 & 0 & 0.0000000 & 0.11764706 & 0 & 0.781038375 & 1 & 0.72727273 & 0.40000000 & 0 & 0 & 0 & 0.2129630\\\\\n",
       "\\end{tabular}\n"
      ],
      "text/markdown": [
       "\n",
       "A data.frame: 6 × 13\n",
       "\n",
       "| <!--/--> | no_of_adults &lt;dbl&gt; | no_of_children &lt;dbl&gt; | no_of_weekend_nights &lt;dbl&gt; | no_of_week_nights &lt;dbl&gt; | required_car_parking_space &lt;dbl&gt; | lead_time &lt;dbl&gt; | arrival_year &lt;dbl&gt; | arrival_month &lt;dbl&gt; | arrival_date &lt;dbl&gt; | repeated_guest &lt;dbl&gt; | no_of_previous_cancellations &lt;dbl&gt; | no_of_previous_bookings_not_canceled &lt;dbl&gt; | avg_price_per_room &lt;dbl&gt; |\n",
       "|---|---|---|---|---|---|---|---|---|---|---|---|---|---|\n",
       "| 1 | 0.50 | 0 | 0.1428571 | 0.11764706 | 0 | 0.505643341 | 0 | 0.81818182 | 0.03333333 | 0 | 0 | 0 | 0.1203704 |\n",
       "| 2 | 0.50 | 0 | 0.2857143 | 0.17647059 | 0 | 0.011286682 | 1 | 0.90909091 | 0.16666667 | 0 | 0 | 0 | 0.1975556 |\n",
       "| 3 | 0.25 | 0 | 0.2857143 | 0.05882353 | 0 | 0.002257336 | 1 | 0.09090909 | 0.90000000 | 0 | 0 | 0 | 0.1111111 |\n",
       "| 4 | 0.50 | 0 | 0.0000000 | 0.11764706 | 0 | 0.476297968 | 1 | 0.36363636 | 0.63333333 | 0 | 0 | 0 | 0.1851852 |\n",
       "| 5 | 0.50 | 0 | 0.1428571 | 0.05882353 | 0 | 0.108352144 | 1 | 0.27272727 | 0.33333333 | 0 | 0 | 0 | 0.1750000 |\n",
       "| 6 | 0.50 | 0 | 0.0000000 | 0.11764706 | 0 | 0.781038375 | 1 | 0.72727273 | 0.40000000 | 0 | 0 | 0 | 0.2129630 |\n",
       "\n"
      ],
      "text/plain": [
       "  no_of_adults no_of_children no_of_weekend_nights no_of_week_nights\n",
       "1 0.50         0              0.1428571            0.11764706       \n",
       "2 0.50         0              0.2857143            0.17647059       \n",
       "3 0.25         0              0.2857143            0.05882353       \n",
       "4 0.50         0              0.0000000            0.11764706       \n",
       "5 0.50         0              0.1428571            0.05882353       \n",
       "6 0.50         0              0.0000000            0.11764706       \n",
       "  required_car_parking_space lead_time   arrival_year arrival_month\n",
       "1 0                          0.505643341 0            0.81818182   \n",
       "2 0                          0.011286682 1            0.90909091   \n",
       "3 0                          0.002257336 1            0.09090909   \n",
       "4 0                          0.476297968 1            0.36363636   \n",
       "5 0                          0.108352144 1            0.27272727   \n",
       "6 0                          0.781038375 1            0.72727273   \n",
       "  arrival_date repeated_guest no_of_previous_cancellations\n",
       "1 0.03333333   0              0                           \n",
       "2 0.16666667   0              0                           \n",
       "3 0.90000000   0              0                           \n",
       "4 0.63333333   0              0                           \n",
       "5 0.33333333   0              0                           \n",
       "6 0.40000000   0              0                           \n",
       "  no_of_previous_bookings_not_canceled avg_price_per_room\n",
       "1 0                                    0.1203704         \n",
       "2 0                                    0.1975556         \n",
       "3 0                                    0.1111111         \n",
       "4 0                                    0.1851852         \n",
       "5 0                                    0.1750000         \n",
       "6 0                                    0.2129630         "
      ]
     },
     "metadata": {},
     "output_type": "display_data"
    }
   ],
   "source": [
    "# Correr la función para normalizar los datos, desde la segunda columna hasta la penúltima, sólo en las columnas numéricas.\n",
    "# pues la primera columna es el ID de la reservación y la última es el estado de la reservación.\n",
    "info_reservaciones_norm <- as.data.frame(lapply(info_reservaciones[,2:(ncol(info_reservaciones)-2)], normalizar))\n",
    "head(info_reservaciones_norm)"
   ]
  },
  {
   "cell_type": "code",
   "execution_count": 11,
   "metadata": {
    "vscode": {
     "languageId": "r"
    }
   },
   "outputs": [
    {
     "data": {
      "text/html": [
       "<table class=\"dataframe\">\n",
       "<caption>A data.frame: 6 × 13</caption>\n",
       "<thead>\n",
       "\t<tr><th></th><th scope=col>no_of_adults</th><th scope=col>no_of_children</th><th scope=col>no_of_weekend_nights</th><th scope=col>no_of_week_nights</th><th scope=col>required_car_parking_space</th><th scope=col>lead_time</th><th scope=col>arrival_year</th><th scope=col>arrival_month</th><th scope=col>arrival_date</th><th scope=col>repeated_guest</th><th scope=col>no_of_previous_cancellations</th><th scope=col>no_of_previous_bookings_not_canceled</th><th scope=col>avg_price_per_room</th></tr>\n",
       "\t<tr><th></th><th scope=col>&lt;dbl&gt;</th><th scope=col>&lt;dbl&gt;</th><th scope=col>&lt;dbl&gt;</th><th scope=col>&lt;dbl&gt;</th><th scope=col>&lt;dbl&gt;</th><th scope=col>&lt;dbl&gt;</th><th scope=col>&lt;dbl&gt;</th><th scope=col>&lt;dbl&gt;</th><th scope=col>&lt;dbl&gt;</th><th scope=col>&lt;dbl&gt;</th><th scope=col>&lt;dbl&gt;</th><th scope=col>&lt;dbl&gt;</th><th scope=col>&lt;dbl&gt;</th></tr>\n",
       "</thead>\n",
       "<tbody>\n",
       "\t<tr><th scope=row>21783</th><td>0.5</td><td>0.0</td><td>0.1428571</td><td>0.11764706</td><td>0</td><td>0.011286682</td><td>0</td><td>0.81818182</td><td>0.60000000</td><td>0</td><td>0</td><td>0</td><td>0.1666667</td></tr>\n",
       "\t<tr><th scope=row>25635</th><td>0.5</td><td>0.0</td><td>0.1428571</td><td>0.11764706</td><td>0</td><td>0.167042889</td><td>1</td><td>0.09090909</td><td>0.46666667</td><td>0</td><td>0</td><td>0</td><td>0.1074074</td></tr>\n",
       "\t<tr><th scope=row>2704</th><td>0.5</td><td>0.0</td><td>0.2857143</td><td>0.05882353</td><td>0</td><td>0.092550790</td><td>1</td><td>0.18181818</td><td>0.40000000</td><td>0</td><td>0</td><td>0</td><td>0.1586481</td></tr>\n",
       "\t<tr><th scope=row>35355</th><td>0.5</td><td>0.0</td><td>0.0000000</td><td>0.05882353</td><td>0</td><td>0.516930023</td><td>1</td><td>0.72727273</td><td>0.06666667</td><td>0</td><td>0</td><td>0</td><td>0.1583333</td></tr>\n",
       "\t<tr><th scope=row>24865</th><td>0.5</td><td>0.2</td><td>0.0000000</td><td>0.05882353</td><td>0</td><td>0.009029345</td><td>1</td><td>0.54545455</td><td>0.46666667</td><td>0</td><td>0</td><td>0</td><td>0.4277778</td></tr>\n",
       "\t<tr><th scope=row>27145</th><td>0.5</td><td>0.0</td><td>0.2857143</td><td>0.29411765</td><td>0</td><td>0.006772009</td><td>0</td><td>0.72727273</td><td>0.30000000</td><td>0</td><td>0</td><td>0</td><td>0.2542407</td></tr>\n",
       "</tbody>\n",
       "</table>\n"
      ],
      "text/latex": [
       "A data.frame: 6 × 13\n",
       "\\begin{tabular}{r|lllllllllllll}\n",
       "  & no\\_of\\_adults & no\\_of\\_children & no\\_of\\_weekend\\_nights & no\\_of\\_week\\_nights & required\\_car\\_parking\\_space & lead\\_time & arrival\\_year & arrival\\_month & arrival\\_date & repeated\\_guest & no\\_of\\_previous\\_cancellations & no\\_of\\_previous\\_bookings\\_not\\_canceled & avg\\_price\\_per\\_room\\\\\n",
       "  & <dbl> & <dbl> & <dbl> & <dbl> & <dbl> & <dbl> & <dbl> & <dbl> & <dbl> & <dbl> & <dbl> & <dbl> & <dbl>\\\\\n",
       "\\hline\n",
       "\t21783 & 0.5 & 0.0 & 0.1428571 & 0.11764706 & 0 & 0.011286682 & 0 & 0.81818182 & 0.60000000 & 0 & 0 & 0 & 0.1666667\\\\\n",
       "\t25635 & 0.5 & 0.0 & 0.1428571 & 0.11764706 & 0 & 0.167042889 & 1 & 0.09090909 & 0.46666667 & 0 & 0 & 0 & 0.1074074\\\\\n",
       "\t2704 & 0.5 & 0.0 & 0.2857143 & 0.05882353 & 0 & 0.092550790 & 1 & 0.18181818 & 0.40000000 & 0 & 0 & 0 & 0.1586481\\\\\n",
       "\t35355 & 0.5 & 0.0 & 0.0000000 & 0.05882353 & 0 & 0.516930023 & 1 & 0.72727273 & 0.06666667 & 0 & 0 & 0 & 0.1583333\\\\\n",
       "\t24865 & 0.5 & 0.2 & 0.0000000 & 0.05882353 & 0 & 0.009029345 & 1 & 0.54545455 & 0.46666667 & 0 & 0 & 0 & 0.4277778\\\\\n",
       "\t27145 & 0.5 & 0.0 & 0.2857143 & 0.29411765 & 0 & 0.006772009 & 0 & 0.72727273 & 0.30000000 & 0 & 0 & 0 & 0.2542407\\\\\n",
       "\\end{tabular}\n"
      ],
      "text/markdown": [
       "\n",
       "A data.frame: 6 × 13\n",
       "\n",
       "| <!--/--> | no_of_adults &lt;dbl&gt; | no_of_children &lt;dbl&gt; | no_of_weekend_nights &lt;dbl&gt; | no_of_week_nights &lt;dbl&gt; | required_car_parking_space &lt;dbl&gt; | lead_time &lt;dbl&gt; | arrival_year &lt;dbl&gt; | arrival_month &lt;dbl&gt; | arrival_date &lt;dbl&gt; | repeated_guest &lt;dbl&gt; | no_of_previous_cancellations &lt;dbl&gt; | no_of_previous_bookings_not_canceled &lt;dbl&gt; | avg_price_per_room &lt;dbl&gt; |\n",
       "|---|---|---|---|---|---|---|---|---|---|---|---|---|---|\n",
       "| 21783 | 0.5 | 0.0 | 0.1428571 | 0.11764706 | 0 | 0.011286682 | 0 | 0.81818182 | 0.60000000 | 0 | 0 | 0 | 0.1666667 |\n",
       "| 25635 | 0.5 | 0.0 | 0.1428571 | 0.11764706 | 0 | 0.167042889 | 1 | 0.09090909 | 0.46666667 | 0 | 0 | 0 | 0.1074074 |\n",
       "| 2704 | 0.5 | 0.0 | 0.2857143 | 0.05882353 | 0 | 0.092550790 | 1 | 0.18181818 | 0.40000000 | 0 | 0 | 0 | 0.1586481 |\n",
       "| 35355 | 0.5 | 0.0 | 0.0000000 | 0.05882353 | 0 | 0.516930023 | 1 | 0.72727273 | 0.06666667 | 0 | 0 | 0 | 0.1583333 |\n",
       "| 24865 | 0.5 | 0.2 | 0.0000000 | 0.05882353 | 0 | 0.009029345 | 1 | 0.54545455 | 0.46666667 | 0 | 0 | 0 | 0.4277778 |\n",
       "| 27145 | 0.5 | 0.0 | 0.2857143 | 0.29411765 | 0 | 0.006772009 | 0 | 0.72727273 | 0.30000000 | 0 | 0 | 0 | 0.2542407 |\n",
       "\n"
      ],
      "text/plain": [
       "      no_of_adults no_of_children no_of_weekend_nights no_of_week_nights\n",
       "21783 0.5          0.0            0.1428571            0.11764706       \n",
       "25635 0.5          0.0            0.1428571            0.11764706       \n",
       "2704  0.5          0.0            0.2857143            0.05882353       \n",
       "35355 0.5          0.0            0.0000000            0.05882353       \n",
       "24865 0.5          0.2            0.0000000            0.05882353       \n",
       "27145 0.5          0.0            0.2857143            0.29411765       \n",
       "      required_car_parking_space lead_time   arrival_year arrival_month\n",
       "21783 0                          0.011286682 0            0.81818182   \n",
       "25635 0                          0.167042889 1            0.09090909   \n",
       "2704  0                          0.092550790 1            0.18181818   \n",
       "35355 0                          0.516930023 1            0.72727273   \n",
       "24865 0                          0.009029345 1            0.54545455   \n",
       "27145 0                          0.006772009 0            0.72727273   \n",
       "      arrival_date repeated_guest no_of_previous_cancellations\n",
       "21783 0.60000000   0              0                           \n",
       "25635 0.46666667   0              0                           \n",
       "2704  0.40000000   0              0                           \n",
       "35355 0.06666667   0              0                           \n",
       "24865 0.46666667   0              0                           \n",
       "27145 0.30000000   0              0                           \n",
       "      no_of_previous_bookings_not_canceled avg_price_per_room\n",
       "21783 0                                    0.1666667         \n",
       "25635 0                                    0.1074074         \n",
       "2704  0                                    0.1586481         \n",
       "35355 0                                    0.1583333         \n",
       "24865 0                                    0.4277778         \n",
       "27145 0                                    0.2542407         "
      ]
     },
     "metadata": {},
     "output_type": "display_data"
    },
    {
     "data": {
      "text/html": [
       "<table class=\"dataframe\">\n",
       "<caption>A data.frame: 6 × 13</caption>\n",
       "<thead>\n",
       "\t<tr><th></th><th scope=col>no_of_adults</th><th scope=col>no_of_children</th><th scope=col>no_of_weekend_nights</th><th scope=col>no_of_week_nights</th><th scope=col>required_car_parking_space</th><th scope=col>lead_time</th><th scope=col>arrival_year</th><th scope=col>arrival_month</th><th scope=col>arrival_date</th><th scope=col>repeated_guest</th><th scope=col>no_of_previous_cancellations</th><th scope=col>no_of_previous_bookings_not_canceled</th><th scope=col>avg_price_per_room</th></tr>\n",
       "\t<tr><th></th><th scope=col>&lt;dbl&gt;</th><th scope=col>&lt;dbl&gt;</th><th scope=col>&lt;dbl&gt;</th><th scope=col>&lt;dbl&gt;</th><th scope=col>&lt;dbl&gt;</th><th scope=col>&lt;dbl&gt;</th><th scope=col>&lt;dbl&gt;</th><th scope=col>&lt;dbl&gt;</th><th scope=col>&lt;dbl&gt;</th><th scope=col>&lt;dbl&gt;</th><th scope=col>&lt;dbl&gt;</th><th scope=col>&lt;dbl&gt;</th><th scope=col>&lt;dbl&gt;</th></tr>\n",
       "</thead>\n",
       "<tbody>\n",
       "\t<tr><th scope=row>2</th><td>0.5</td><td>0</td><td>0.2857143</td><td>0.17647059</td><td>0</td><td>0.011286682</td><td>1</td><td>0.9090909</td><td>0.1666667</td><td>0</td><td>0</td><td>0</td><td>0.1975556</td></tr>\n",
       "\t<tr><th scope=row>8</th><td>0.5</td><td>0</td><td>0.1428571</td><td>0.17647059</td><td>0</td><td>0.187358916</td><td>1</td><td>1.0000000</td><td>0.8333333</td><td>0</td><td>0</td><td>0</td><td>0.1955741</td></tr>\n",
       "\t<tr><th scope=row>10</th><td>0.5</td><td>0</td><td>0.0000000</td><td>0.29411765</td><td>0</td><td>0.099322799</td><td>1</td><td>0.8181818</td><td>0.5666667</td><td>0</td><td>0</td><td>0</td><td>0.2471111</td></tr>\n",
       "\t<tr><th scope=row>30</th><td>0.5</td><td>0</td><td>0.0000000</td><td>0.11764706</td><td>0</td><td>0.126410835</td><td>0</td><td>0.7272727</td><td>0.5333333</td><td>0</td><td>0</td><td>0</td><td>0.1518519</td></tr>\n",
       "\t<tr><th scope=row>31</th><td>0.5</td><td>0</td><td>0.1428571</td><td>0.05882353</td><td>0</td><td>0.006772009</td><td>0</td><td>0.7272727</td><td>0.6000000</td><td>0</td><td>0</td><td>0</td><td>0.3287037</td></tr>\n",
       "\t<tr><th scope=row>41</th><td>0.5</td><td>0</td><td>0.0000000</td><td>0.23529412</td><td>0</td><td>0.144469526</td><td>1</td><td>0.9090909</td><td>0.0000000</td><td>0</td><td>0</td><td>0</td><td>0.1733333</td></tr>\n",
       "</tbody>\n",
       "</table>\n"
      ],
      "text/latex": [
       "A data.frame: 6 × 13\n",
       "\\begin{tabular}{r|lllllllllllll}\n",
       "  & no\\_of\\_adults & no\\_of\\_children & no\\_of\\_weekend\\_nights & no\\_of\\_week\\_nights & required\\_car\\_parking\\_space & lead\\_time & arrival\\_year & arrival\\_month & arrival\\_date & repeated\\_guest & no\\_of\\_previous\\_cancellations & no\\_of\\_previous\\_bookings\\_not\\_canceled & avg\\_price\\_per\\_room\\\\\n",
       "  & <dbl> & <dbl> & <dbl> & <dbl> & <dbl> & <dbl> & <dbl> & <dbl> & <dbl> & <dbl> & <dbl> & <dbl> & <dbl>\\\\\n",
       "\\hline\n",
       "\t2 & 0.5 & 0 & 0.2857143 & 0.17647059 & 0 & 0.011286682 & 1 & 0.9090909 & 0.1666667 & 0 & 0 & 0 & 0.1975556\\\\\n",
       "\t8 & 0.5 & 0 & 0.1428571 & 0.17647059 & 0 & 0.187358916 & 1 & 1.0000000 & 0.8333333 & 0 & 0 & 0 & 0.1955741\\\\\n",
       "\t10 & 0.5 & 0 & 0.0000000 & 0.29411765 & 0 & 0.099322799 & 1 & 0.8181818 & 0.5666667 & 0 & 0 & 0 & 0.2471111\\\\\n",
       "\t30 & 0.5 & 0 & 0.0000000 & 0.11764706 & 0 & 0.126410835 & 0 & 0.7272727 & 0.5333333 & 0 & 0 & 0 & 0.1518519\\\\\n",
       "\t31 & 0.5 & 0 & 0.1428571 & 0.05882353 & 0 & 0.006772009 & 0 & 0.7272727 & 0.6000000 & 0 & 0 & 0 & 0.3287037\\\\\n",
       "\t41 & 0.5 & 0 & 0.0000000 & 0.23529412 & 0 & 0.144469526 & 1 & 0.9090909 & 0.0000000 & 0 & 0 & 0 & 0.1733333\\\\\n",
       "\\end{tabular}\n"
      ],
      "text/markdown": [
       "\n",
       "A data.frame: 6 × 13\n",
       "\n",
       "| <!--/--> | no_of_adults &lt;dbl&gt; | no_of_children &lt;dbl&gt; | no_of_weekend_nights &lt;dbl&gt; | no_of_week_nights &lt;dbl&gt; | required_car_parking_space &lt;dbl&gt; | lead_time &lt;dbl&gt; | arrival_year &lt;dbl&gt; | arrival_month &lt;dbl&gt; | arrival_date &lt;dbl&gt; | repeated_guest &lt;dbl&gt; | no_of_previous_cancellations &lt;dbl&gt; | no_of_previous_bookings_not_canceled &lt;dbl&gt; | avg_price_per_room &lt;dbl&gt; |\n",
       "|---|---|---|---|---|---|---|---|---|---|---|---|---|---|\n",
       "| 2 | 0.5 | 0 | 0.2857143 | 0.17647059 | 0 | 0.011286682 | 1 | 0.9090909 | 0.1666667 | 0 | 0 | 0 | 0.1975556 |\n",
       "| 8 | 0.5 | 0 | 0.1428571 | 0.17647059 | 0 | 0.187358916 | 1 | 1.0000000 | 0.8333333 | 0 | 0 | 0 | 0.1955741 |\n",
       "| 10 | 0.5 | 0 | 0.0000000 | 0.29411765 | 0 | 0.099322799 | 1 | 0.8181818 | 0.5666667 | 0 | 0 | 0 | 0.2471111 |\n",
       "| 30 | 0.5 | 0 | 0.0000000 | 0.11764706 | 0 | 0.126410835 | 0 | 0.7272727 | 0.5333333 | 0 | 0 | 0 | 0.1518519 |\n",
       "| 31 | 0.5 | 0 | 0.1428571 | 0.05882353 | 0 | 0.006772009 | 0 | 0.7272727 | 0.6000000 | 0 | 0 | 0 | 0.3287037 |\n",
       "| 41 | 0.5 | 0 | 0.0000000 | 0.23529412 | 0 | 0.144469526 | 1 | 0.9090909 | 0.0000000 | 0 | 0 | 0 | 0.1733333 |\n",
       "\n"
      ],
      "text/plain": [
       "   no_of_adults no_of_children no_of_weekend_nights no_of_week_nights\n",
       "2  0.5          0              0.2857143            0.17647059       \n",
       "8  0.5          0              0.1428571            0.17647059       \n",
       "10 0.5          0              0.0000000            0.29411765       \n",
       "30 0.5          0              0.0000000            0.11764706       \n",
       "31 0.5          0              0.1428571            0.05882353       \n",
       "41 0.5          0              0.0000000            0.23529412       \n",
       "   required_car_parking_space lead_time   arrival_year arrival_month\n",
       "2  0                          0.011286682 1            0.9090909    \n",
       "8  0                          0.187358916 1            1.0000000    \n",
       "10 0                          0.099322799 1            0.8181818    \n",
       "30 0                          0.126410835 0            0.7272727    \n",
       "31 0                          0.006772009 0            0.7272727    \n",
       "41 0                          0.144469526 1            0.9090909    \n",
       "   arrival_date repeated_guest no_of_previous_cancellations\n",
       "2  0.1666667    0              0                           \n",
       "8  0.8333333    0              0                           \n",
       "10 0.5666667    0              0                           \n",
       "30 0.5333333    0              0                           \n",
       "31 0.6000000    0              0                           \n",
       "41 0.0000000    0              0                           \n",
       "   no_of_previous_bookings_not_canceled avg_price_per_room\n",
       "2  0                                    0.1975556         \n",
       "8  0                                    0.1955741         \n",
       "10 0                                    0.2471111         \n",
       "30 0                                    0.1518519         \n",
       "31 0                                    0.3287037         \n",
       "41 0                                    0.1733333         "
      ]
     },
     "metadata": {},
     "output_type": "display_data"
    }
   ],
   "source": [
    "# Obtener una muestra aleatoria de 80% de los datos para entrenamiento\n",
    "datos_al_azar <- sample(1:nrow(info_reservaciones_norm), 0.8 * nrow(info_reservaciones_norm)) \n",
    "muestra_entrenamiento <- info_reservaciones_norm[datos_al_azar, ]\n",
    "# Obtener una muestra aleatoria de 20% de los datos para prueba\n",
    "muestra_prueba <- info_reservaciones_norm[-datos_al_azar, ]\n",
    "head(muestra_entrenamiento)\n",
    "head(muestra_prueba)"
   ]
  },
  {
   "cell_type": "code",
   "execution_count": 12,
   "metadata": {
    "vscode": {
     "languageId": "r"
    }
   },
   "outputs": [],
   "source": [
    "# Se importa la librería para el algoritmo de k-vecinos\n",
    "library(class)"
   ]
  },
  {
   "cell_type": "code",
   "execution_count": 13,
   "metadata": {
    "vscode": {
     "languageId": "r"
    }
   },
   "outputs": [],
   "source": [
    "# Se declara la función para predecir el estado de la reservación, que se basa en el algoritmo de k-vecinos\n",
    "# y que recibe como parámetros los datos de entrenamiento, los datos de prueba, el número de vecinos.\n",
    "predicciones <- knn(muestra_entrenamiento, # Datos de entrenamiento\n",
    "                    muestra_prueba, # Datos de prueba\n",
    "                    info_reservaciones[datos_al_azar, 16], # Etiquetas bajo las cuales se clasificarán los datos de entrenamiento\n",
    "                    k = 3) # Número de vecinos"
   ]
  },
  {
   "cell_type": "code",
   "execution_count": 14,
   "metadata": {
    "vscode": {
     "languageId": "r"
    }
   },
   "outputs": [
    {
     "data": {
      "text/html": [
       "<style>\n",
       ".dl-inline {width: auto; margin:0; padding: 0}\n",
       ".dl-inline>dt, .dl-inline>dd {float: none; width: auto; display: inline-block}\n",
       ".dl-inline>dt::after {content: \":\\0020\"; padding-right: .5ex}\n",
       ".dl-inline>dt:not(:first-of-type) {padding-left: .5ex}\n",
       "</style><dl class=dl-inline><dt>Canceled</dt><dd>2197</dd><dt>Not_Canceled</dt><dd>5058</dd></dl>\n"
      ],
      "text/latex": [
       "\\begin{description*}\n",
       "\\item[Canceled] 2197\n",
       "\\item[Not\\textbackslash{}\\_Canceled] 5058\n",
       "\\end{description*}\n"
      ],
      "text/markdown": [
       "Canceled\n",
       ":   2197Not_Canceled\n",
       ":   5058\n",
       "\n"
      ],
      "text/plain": [
       "    Canceled Not_Canceled \n",
       "        2197         5058 "
      ]
     },
     "metadata": {},
     "output_type": "display_data"
    }
   ],
   "source": [
    "summary(predicciones)"
   ]
  },
  {
   "cell_type": "code",
   "execution_count": 15,
   "metadata": {
    "vscode": {
     "languageId": "r"
    }
   },
   "outputs": [
    {
     "data": {
      "text/plain": [
       "              \n",
       "predicciones   Canceled Not_Canceled\n",
       "  Canceled         1567          630\n",
       "  Not_Canceled      856         4202"
      ]
     },
     "metadata": {},
     "output_type": "display_data"
    }
   ],
   "source": [
    "# Se crea una matriz de confusión para ver la precisión del algoritmo\n",
    "tab <- table(predicciones,info_reservaciones[-datos_al_azar, 16])\n",
    "tab"
   ]
  },
  {
   "cell_type": "code",
   "execution_count": 16,
   "metadata": {
    "vscode": {
     "languageId": "r"
    }
   },
   "outputs": [
    {
     "data": {
      "text/html": [
       "79.5175740868367"
      ],
      "text/latex": [
       "79.5175740868367"
      ],
      "text/markdown": [
       "79.5175740868367"
      ],
      "text/plain": [
       "[1] 79.51757"
      ]
     },
     "metadata": {},
     "output_type": "display_data"
    }
   ],
   "source": [
    "# En esta función se divide el número de predicciones correctas entre el número total de predicciones, lo que nos dice \n",
    "accuracy <- function(x){sum(diag(x)/(sum(rowSums(x)))) * 100}\n",
    "accuracy(tab)"
   ]
  }
 ],
 "metadata": {
  "kernelspec": {
   "display_name": "R",
   "language": "R",
   "name": "ir"
  },
  "language_info": {
   "codemirror_mode": "r",
   "file_extension": ".r",
   "mimetype": "text/x-r-source",
   "name": "R",
   "pygments_lexer": "r",
   "version": "4.2.2"
  },
  "orig_nbformat": 4
 },
 "nbformat": 4,
 "nbformat_minor": 2
}
